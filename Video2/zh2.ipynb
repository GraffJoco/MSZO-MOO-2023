{
 "cells": [
  {
   "cell_type": "code",
   "execution_count": 2,
   "metadata": {},
   "outputs": [
    {
     "data": {
      "text/html": [
       "<pre style=\"white-space:pre;overflow-x:auto;line-height:normal;font-family:Menlo,'DejaVu Sans Mono',consolas,'Courier New',monospace\">Manim Community <span style=\"color: #008000; text-decoration-color: #008000\">v0.17.2</span>\n",
       "\n",
       "</pre>\n"
      ],
      "text/plain": [
       "Manim Community \u001b[32mv0.\u001b[0m\u001b[32m17.2\u001b[0m\n",
       "\n"
      ]
     },
     "metadata": {},
     "output_type": "display_data"
    }
   ],
   "source": [
    "from manim import *"
   ]
  },
  {
   "cell_type": "code",
   "execution_count": null,
   "metadata": {},
   "outputs": [],
   "source": [
    "%%manim -ql title2\n",
    "\n",
    "class title2(Scene):\n",
    "    def construct(self):\n",
    "        #Intro\n",
    "        Title = Paragraph(\"Objektum Orientált Programozás\", \"2. konzultáció\",color=BLUE,alignment=\"center\")\n",
    "        moo= Text(\"(Röviden MOO)\",color=BLUE).shift(0.8*UP)\n",
    "        TitleUnderLine = Line(start=[-3.2,2.7,0],end=[3.2,2.7,0],color=BLUE)\n",
    "        \n",
    "        self.play(FadeIn(Title,moo.scale(0.5)))\n",
    "        self.wait(1)\n",
    "\n",
    "        self.play(FadeOut(moo),run_time=0.2)\n",
    "        self.play(Title.animate.scale(0.6).shift(3.25 * UP))\n",
    "        self.play(GrowFromCenter(TitleUnderLine))\n",
    "\n",
    "        Temak = Paragraph(\n",
    "            \"- Operátor túlterhelés\",\n",
    "            \"- Öröklés (inheritancia)\",\n",
    "            \"- Virtuális függvények\",\n",
    "            \"- STL tárolók\"\n",
    "            \"- Lambda függvények\"\n",
    "            font_size=30,line_spacing=2\n",
    "        )\n",
    "\n",
    "        self.play(Create(Temak),run_time=2)\n",
    "        self.wait()\n",
    "        self.play(FadeOut(Temak),FadeOut(Title),ShrinkToCenter(TitleUnderLine))"
   ]
  },
  {
   "cell_type": "code",
   "execution_count": 7,
   "metadata": {},
   "outputs": [
    {
     "data": {
      "text/html": [
       "<pre style=\"white-space:pre;overflow-x:auto;line-height:normal;font-family:Menlo,'DejaVu Sans Mono',consolas,'Courier New',monospace\"><span style=\"color: #7fbfbf; text-decoration-color: #7fbfbf\">[11/19/23 12:21:24] </span><span style=\"color: #008000; text-decoration-color: #008000\">INFO    </span> Animation <span style=\"color: #008000; text-decoration-color: #008000\">0</span> : Using cached data <span style=\"font-weight: bold\">(</span>hash :                           <a href=\"file://C:\\tools\\Manim\\Lib\\site-packages\\manim\\renderer\\cairo_renderer.py\" target=\"_blank\"><span style=\"color: #7f7f7f; text-decoration-color: #7f7f7f\">cairo_renderer.py</span></a><span style=\"color: #7f7f7f; text-decoration-color: #7f7f7f\">:</span><a href=\"file://C:\\tools\\Manim\\Lib\\site-packages\\manim\\renderer\\cairo_renderer.py#78\" target=\"_blank\"><span style=\"color: #7f7f7f; text-decoration-color: #7f7f7f\">78</span></a>\n",
       "<span style=\"color: #7fbfbf; text-decoration-color: #7fbfbf\">                    </span>         4266129954_1001469670_223132457<span style=\"font-weight: bold\">)</span>                                  <span style=\"color: #7f7f7f; text-decoration-color: #7f7f7f\">                    </span>\n",
       "</pre>\n"
      ],
      "text/plain": [
       "\u001b[2;36m[11/19/23 12:21:24]\u001b[0m\u001b[2;36m \u001b[0m\u001b[32mINFO    \u001b[0m Animation \u001b[32m0\u001b[0m : Using cached data \u001b[1m(\u001b[0mhash :                           \u001b]8;id=440905;file://C:\\tools\\Manim\\Lib\\site-packages\\manim\\renderer\\cairo_renderer.py\u001b\\\u001b[2mcairo_renderer.py\u001b[0m\u001b]8;;\u001b\\\u001b[2m:\u001b[0m\u001b]8;id=641019;file://C:\\tools\\Manim\\Lib\\site-packages\\manim\\renderer\\cairo_renderer.py#78\u001b\\\u001b[2m78\u001b[0m\u001b]8;;\u001b\\\n",
       "\u001b[2;36m                    \u001b[0m         4266129954_1001469670_223132457\u001b[1m)\u001b[0m                                  \u001b[2m                    \u001b[0m\n"
      ]
     },
     "metadata": {},
     "output_type": "display_data"
    },
    {
     "name": "stderr",
     "output_type": "stream",
     "text": [
      "                                                                                                \r"
     ]
    },
    {
     "data": {
      "text/html": [
       "<pre style=\"white-space:pre;overflow-x:auto;line-height:normal;font-family:Menlo,'DejaVu Sans Mono',consolas,'Courier New',monospace\"><span style=\"color: #7fbfbf; text-decoration-color: #7fbfbf\">[11/19/23 12:21:25] </span><span style=\"color: #008000; text-decoration-color: #008000\">INFO    </span> Animation <span style=\"color: #008000; text-decoration-color: #008000\">1</span> : Using cached data <span style=\"font-weight: bold\">(</span>hash :                           <a href=\"file://C:\\tools\\Manim\\Lib\\site-packages\\manim\\renderer\\cairo_renderer.py\" target=\"_blank\"><span style=\"color: #7f7f7f; text-decoration-color: #7f7f7f\">cairo_renderer.py</span></a><span style=\"color: #7f7f7f; text-decoration-color: #7f7f7f\">:</span><a href=\"file://C:\\tools\\Manim\\Lib\\site-packages\\manim\\renderer\\cairo_renderer.py#78\" target=\"_blank\"><span style=\"color: #7f7f7f; text-decoration-color: #7f7f7f\">78</span></a>\n",
       "<span style=\"color: #7fbfbf; text-decoration-color: #7fbfbf\">                    </span>         1442284246_125286499_1582753538<span style=\"font-weight: bold\">)</span>                                  <span style=\"color: #7f7f7f; text-decoration-color: #7f7f7f\">                    </span>\n",
       "</pre>\n"
      ],
      "text/plain": [
       "\u001b[2;36m[11/19/23 12:21:25]\u001b[0m\u001b[2;36m \u001b[0m\u001b[32mINFO    \u001b[0m Animation \u001b[32m1\u001b[0m : Using cached data \u001b[1m(\u001b[0mhash :                           \u001b]8;id=989971;file://C:\\tools\\Manim\\Lib\\site-packages\\manim\\renderer\\cairo_renderer.py\u001b\\\u001b[2mcairo_renderer.py\u001b[0m\u001b]8;;\u001b\\\u001b[2m:\u001b[0m\u001b]8;id=690105;file://C:\\tools\\Manim\\Lib\\site-packages\\manim\\renderer\\cairo_renderer.py#78\u001b\\\u001b[2m78\u001b[0m\u001b]8;;\u001b\\\n",
       "\u001b[2;36m                    \u001b[0m         1442284246_125286499_1582753538\u001b[1m)\u001b[0m                                  \u001b[2m                    \u001b[0m\n"
      ]
     },
     "metadata": {},
     "output_type": "display_data"
    },
    {
     "data": {
      "text/html": [
       "<pre style=\"white-space:pre;overflow-x:auto;line-height:normal;font-family:Menlo,'DejaVu Sans Mono',consolas,'Courier New',monospace\"><span style=\"color: #7fbfbf; text-decoration-color: #7fbfbf\">                    </span><span style=\"color: #008000; text-decoration-color: #008000\">INFO    </span> Animation <span style=\"color: #008000; text-decoration-color: #008000\">2</span> : Using cached data <span style=\"font-weight: bold\">(</span>hash :                           <a href=\"file://C:\\tools\\Manim\\Lib\\site-packages\\manim\\renderer\\cairo_renderer.py\" target=\"_blank\"><span style=\"color: #7f7f7f; text-decoration-color: #7f7f7f\">cairo_renderer.py</span></a><span style=\"color: #7f7f7f; text-decoration-color: #7f7f7f\">:</span><a href=\"file://C:\\tools\\Manim\\Lib\\site-packages\\manim\\renderer\\cairo_renderer.py#78\" target=\"_blank\"><span style=\"color: #7f7f7f; text-decoration-color: #7f7f7f\">78</span></a>\n",
       "<span style=\"color: #7fbfbf; text-decoration-color: #7fbfbf\">                    </span>         1442284246_111698152_254577894<span style=\"font-weight: bold\">)</span>                                   <span style=\"color: #7f7f7f; text-decoration-color: #7f7f7f\">                    </span>\n",
       "</pre>\n"
      ],
      "text/plain": [
       "\u001b[2;36m                   \u001b[0m\u001b[2;36m \u001b[0m\u001b[32mINFO    \u001b[0m Animation \u001b[32m2\u001b[0m : Using cached data \u001b[1m(\u001b[0mhash :                           \u001b]8;id=616915;file://C:\\tools\\Manim\\Lib\\site-packages\\manim\\renderer\\cairo_renderer.py\u001b\\\u001b[2mcairo_renderer.py\u001b[0m\u001b]8;;\u001b\\\u001b[2m:\u001b[0m\u001b]8;id=16398;file://C:\\tools\\Manim\\Lib\\site-packages\\manim\\renderer\\cairo_renderer.py#78\u001b\\\u001b[2m78\u001b[0m\u001b]8;;\u001b\\\n",
       "\u001b[2;36m                    \u001b[0m         1442284246_111698152_254577894\u001b[1m)\u001b[0m                                   \u001b[2m                    \u001b[0m\n"
      ]
     },
     "metadata": {},
     "output_type": "display_data"
    },
    {
     "name": "stderr",
     "output_type": "stream",
     "text": [
      "                                                                                                          \r"
     ]
    },
    {
     "data": {
      "text/html": [
       "<pre style=\"white-space:pre;overflow-x:auto;line-height:normal;font-family:Menlo,'DejaVu Sans Mono',consolas,'Courier New',monospace\"><span style=\"color: #7fbfbf; text-decoration-color: #7fbfbf\">[11/19/23 12:21:26] </span><span style=\"color: #008000; text-decoration-color: #008000\">INFO    </span> Animation <span style=\"color: #008000; text-decoration-color: #008000\">3</span> : Using cached data <span style=\"font-weight: bold\">(</span>hash :                           <a href=\"file://C:\\tools\\Manim\\Lib\\site-packages\\manim\\renderer\\cairo_renderer.py\" target=\"_blank\"><span style=\"color: #7f7f7f; text-decoration-color: #7f7f7f\">cairo_renderer.py</span></a><span style=\"color: #7f7f7f; text-decoration-color: #7f7f7f\">:</span><a href=\"file://C:\\tools\\Manim\\Lib\\site-packages\\manim\\renderer\\cairo_renderer.py#78\" target=\"_blank\"><span style=\"color: #7f7f7f; text-decoration-color: #7f7f7f\">78</span></a>\n",
       "<span style=\"color: #7fbfbf; text-decoration-color: #7fbfbf\">                    </span>         1442284246_92376514_3496266941<span style=\"font-weight: bold\">)</span>                                   <span style=\"color: #7f7f7f; text-decoration-color: #7f7f7f\">                    </span>\n",
       "</pre>\n"
      ],
      "text/plain": [
       "\u001b[2;36m[11/19/23 12:21:26]\u001b[0m\u001b[2;36m \u001b[0m\u001b[32mINFO    \u001b[0m Animation \u001b[32m3\u001b[0m : Using cached data \u001b[1m(\u001b[0mhash :                           \u001b]8;id=310465;file://C:\\tools\\Manim\\Lib\\site-packages\\manim\\renderer\\cairo_renderer.py\u001b\\\u001b[2mcairo_renderer.py\u001b[0m\u001b]8;;\u001b\\\u001b[2m:\u001b[0m\u001b]8;id=728817;file://C:\\tools\\Manim\\Lib\\site-packages\\manim\\renderer\\cairo_renderer.py#78\u001b\\\u001b[2m78\u001b[0m\u001b]8;;\u001b\\\n",
       "\u001b[2;36m                    \u001b[0m         1442284246_92376514_3496266941\u001b[1m)\u001b[0m                                   \u001b[2m                    \u001b[0m\n"
      ]
     },
     "metadata": {},
     "output_type": "display_data"
    },
    {
     "name": "stderr",
     "output_type": "stream",
     "text": [
      "                                                                        \r"
     ]
    },
    {
     "data": {
      "text/html": [
       "<pre style=\"white-space:pre;overflow-x:auto;line-height:normal;font-family:Menlo,'DejaVu Sans Mono',consolas,'Courier New',monospace\"><span style=\"color: #7fbfbf; text-decoration-color: #7fbfbf\">                    </span><span style=\"color: #008000; text-decoration-color: #008000\">INFO    </span> Animation <span style=\"color: #008000; text-decoration-color: #008000\">4</span> : Using cached data <span style=\"font-weight: bold\">(</span>hash :                           <a href=\"file://C:\\tools\\Manim\\Lib\\site-packages\\manim\\renderer\\cairo_renderer.py\" target=\"_blank\"><span style=\"color: #7f7f7f; text-decoration-color: #7f7f7f\">cairo_renderer.py</span></a><span style=\"color: #7f7f7f; text-decoration-color: #7f7f7f\">:</span><a href=\"file://C:\\tools\\Manim\\Lib\\site-packages\\manim\\renderer\\cairo_renderer.py#78\" target=\"_blank\"><span style=\"color: #7f7f7f; text-decoration-color: #7f7f7f\">78</span></a>\n",
       "<span style=\"color: #7fbfbf; text-decoration-color: #7fbfbf\">                    </span>         1442284246_329969645_2721459595<span style=\"font-weight: bold\">)</span>                                  <span style=\"color: #7f7f7f; text-decoration-color: #7f7f7f\">                    </span>\n",
       "</pre>\n"
      ],
      "text/plain": [
       "\u001b[2;36m                   \u001b[0m\u001b[2;36m \u001b[0m\u001b[32mINFO    \u001b[0m Animation \u001b[32m4\u001b[0m : Using cached data \u001b[1m(\u001b[0mhash :                           \u001b]8;id=236729;file://C:\\tools\\Manim\\Lib\\site-packages\\manim\\renderer\\cairo_renderer.py\u001b\\\u001b[2mcairo_renderer.py\u001b[0m\u001b]8;;\u001b\\\u001b[2m:\u001b[0m\u001b]8;id=392225;file://C:\\tools\\Manim\\Lib\\site-packages\\manim\\renderer\\cairo_renderer.py#78\u001b\\\u001b[2m78\u001b[0m\u001b]8;;\u001b\\\n",
       "\u001b[2;36m                    \u001b[0m         1442284246_329969645_2721459595\u001b[1m)\u001b[0m                                  \u001b[2m                    \u001b[0m\n"
      ]
     },
     "metadata": {},
     "output_type": "display_data"
    },
    {
     "data": {
      "text/html": [
       "<pre style=\"white-space:pre;overflow-x:auto;line-height:normal;font-family:Menlo,'DejaVu Sans Mono',consolas,'Courier New',monospace\"><span style=\"color: #7fbfbf; text-decoration-color: #7fbfbf\">                    </span><span style=\"color: #008000; text-decoration-color: #008000\">INFO    </span> Animation <span style=\"color: #008000; text-decoration-color: #008000\">5</span> : Using cached data <span style=\"font-weight: bold\">(</span>hash :                           <a href=\"file://C:\\tools\\Manim\\Lib\\site-packages\\manim\\renderer\\cairo_renderer.py\" target=\"_blank\"><span style=\"color: #7f7f7f; text-decoration-color: #7f7f7f\">cairo_renderer.py</span></a><span style=\"color: #7f7f7f; text-decoration-color: #7f7f7f\">:</span><a href=\"file://C:\\tools\\Manim\\Lib\\site-packages\\manim\\renderer\\cairo_renderer.py#78\" target=\"_blank\"><span style=\"color: #7f7f7f; text-decoration-color: #7f7f7f\">78</span></a>\n",
       "<span style=\"color: #7fbfbf; text-decoration-color: #7fbfbf\">                    </span>         1442284246_2165941186_2919345175<span style=\"font-weight: bold\">)</span>                                 <span style=\"color: #7f7f7f; text-decoration-color: #7f7f7f\">                    </span>\n",
       "</pre>\n"
      ],
      "text/plain": [
       "\u001b[2;36m                   \u001b[0m\u001b[2;36m \u001b[0m\u001b[32mINFO    \u001b[0m Animation \u001b[32m5\u001b[0m : Using cached data \u001b[1m(\u001b[0mhash :                           \u001b]8;id=230810;file://C:\\tools\\Manim\\Lib\\site-packages\\manim\\renderer\\cairo_renderer.py\u001b\\\u001b[2mcairo_renderer.py\u001b[0m\u001b]8;;\u001b\\\u001b[2m:\u001b[0m\u001b]8;id=325669;file://C:\\tools\\Manim\\Lib\\site-packages\\manim\\renderer\\cairo_renderer.py#78\u001b\\\u001b[2m78\u001b[0m\u001b]8;;\u001b\\\n",
       "\u001b[2;36m                    \u001b[0m         1442284246_2165941186_2919345175\u001b[1m)\u001b[0m                                 \u001b[2m                    \u001b[0m\n"
      ]
     },
     "metadata": {},
     "output_type": "display_data"
    },
    {
     "name": "stderr",
     "output_type": "stream",
     "text": [
      "                                                                                                                                                                                                                                                                              \r"
     ]
    },
    {
     "data": {
      "text/html": [
       "<pre style=\"white-space:pre;overflow-x:auto;line-height:normal;font-family:Menlo,'DejaVu Sans Mono',consolas,'Courier New',monospace\"><span style=\"color: #7fbfbf; text-decoration-color: #7fbfbf\">[11/19/23 12:21:31] </span><span style=\"color: #008000; text-decoration-color: #008000\">INFO    </span> Animation <span style=\"color: #008000; text-decoration-color: #008000\">6</span> : Partial movie file written in                   <a href=\"file://C:\\tools\\Manim\\Lib\\site-packages\\manim\\scene\\scene_file_writer.py\" target=\"_blank\"><span style=\"color: #7f7f7f; text-decoration-color: #7f7f7f\">scene_file_writer.py</span></a><span style=\"color: #7f7f7f; text-decoration-color: #7f7f7f\">:</span><a href=\"file://C:\\tools\\Manim\\Lib\\site-packages\\manim\\scene\\scene_file_writer.py#527\" target=\"_blank\"><span style=\"color: #7f7f7f; text-decoration-color: #7f7f7f\">527</span></a>\n",
       "<span style=\"color: #7fbfbf; text-decoration-color: #7fbfbf\">                    </span>         <span style=\"color: #008000; text-decoration-color: #008000\">'C:\\Yokota_Adan\\Egyetem\\mszo\\MOO\\MSZO-MOO-2023\\Video2\\media\\v</span> <span style=\"color: #7f7f7f; text-decoration-color: #7f7f7f\">                        </span>\n",
       "<span style=\"color: #7fbfbf; text-decoration-color: #7fbfbf\">                    </span>         <span style=\"color: #008000; text-decoration-color: #008000\">ideos\\Video2\\480p15\\partial_movie_files\\oper\\1442284246_83680</span> <span style=\"color: #7f7f7f; text-decoration-color: #7f7f7f\">                        </span>\n",
       "<span style=\"color: #7fbfbf; text-decoration-color: #7fbfbf\">                    </span>         <span style=\"color: #008000; text-decoration-color: #008000\">338_2330236228.mp4'</span>                                           <span style=\"color: #7f7f7f; text-decoration-color: #7f7f7f\">                        </span>\n",
       "</pre>\n"
      ],
      "text/plain": [
       "\u001b[2;36m[11/19/23 12:21:31]\u001b[0m\u001b[2;36m \u001b[0m\u001b[32mINFO    \u001b[0m Animation \u001b[32m6\u001b[0m : Partial movie file written in                   \u001b]8;id=39944;file://C:\\tools\\Manim\\Lib\\site-packages\\manim\\scene\\scene_file_writer.py\u001b\\\u001b[2mscene_file_writer.py\u001b[0m\u001b]8;;\u001b\\\u001b[2m:\u001b[0m\u001b]8;id=135112;file://C:\\tools\\Manim\\Lib\\site-packages\\manim\\scene\\scene_file_writer.py#527\u001b\\\u001b[2m527\u001b[0m\u001b]8;;\u001b\\\n",
       "\u001b[2;36m                    \u001b[0m         \u001b[32m'C:\\Yokota_Adan\\Egyetem\\mszo\\MOO\\MSZO-MOO-2023\\Video2\\media\\v\u001b[0m \u001b[2m                        \u001b[0m\n",
       "\u001b[2;36m                    \u001b[0m         \u001b[32mideos\\Video2\\480p15\\partial_movie_files\\oper\\1442284246_83680\u001b[0m \u001b[2m                        \u001b[0m\n",
       "\u001b[2;36m                    \u001b[0m         \u001b[32m338_2330236228.mp4'\u001b[0m                                           \u001b[2m                        \u001b[0m\n"
      ]
     },
     "metadata": {},
     "output_type": "display_data"
    },
    {
     "name": "stderr",
     "output_type": "stream",
     "text": [
      "                                                                                                                                                                                                                                                                                \r"
     ]
    },
    {
     "data": {
      "text/html": [
       "<pre style=\"white-space:pre;overflow-x:auto;line-height:normal;font-family:Menlo,'DejaVu Sans Mono',consolas,'Courier New',monospace\"><span style=\"color: #7fbfbf; text-decoration-color: #7fbfbf\">[11/19/23 12:21:37] </span><span style=\"color: #008000; text-decoration-color: #008000\">INFO    </span> Animation <span style=\"color: #008000; text-decoration-color: #008000\">7</span> : Partial movie file written in                   <a href=\"file://C:\\tools\\Manim\\Lib\\site-packages\\manim\\scene\\scene_file_writer.py\" target=\"_blank\"><span style=\"color: #7f7f7f; text-decoration-color: #7f7f7f\">scene_file_writer.py</span></a><span style=\"color: #7f7f7f; text-decoration-color: #7f7f7f\">:</span><a href=\"file://C:\\tools\\Manim\\Lib\\site-packages\\manim\\scene\\scene_file_writer.py#527\" target=\"_blank\"><span style=\"color: #7f7f7f; text-decoration-color: #7f7f7f\">527</span></a>\n",
       "<span style=\"color: #7fbfbf; text-decoration-color: #7fbfbf\">                    </span>         <span style=\"color: #008000; text-decoration-color: #008000\">'C:\\Yokota_Adan\\Egyetem\\mszo\\MOO\\MSZO-MOO-2023\\Video2\\media\\v</span> <span style=\"color: #7f7f7f; text-decoration-color: #7f7f7f\">                        </span>\n",
       "<span style=\"color: #7fbfbf; text-decoration-color: #7fbfbf\">                    </span>         <span style=\"color: #008000; text-decoration-color: #008000\">ideos\\Video2\\480p15\\partial_movie_files\\oper\\1442284246_15843</span> <span style=\"color: #7f7f7f; text-decoration-color: #7f7f7f\">                        </span>\n",
       "<span style=\"color: #7fbfbf; text-decoration-color: #7fbfbf\">                    </span>         <span style=\"color: #008000; text-decoration-color: #008000\">04919_3068049330.mp4'</span>                                         <span style=\"color: #7f7f7f; text-decoration-color: #7f7f7f\">                        </span>\n",
       "</pre>\n"
      ],
      "text/plain": [
       "\u001b[2;36m[11/19/23 12:21:37]\u001b[0m\u001b[2;36m \u001b[0m\u001b[32mINFO    \u001b[0m Animation \u001b[32m7\u001b[0m : Partial movie file written in                   \u001b]8;id=434150;file://C:\\tools\\Manim\\Lib\\site-packages\\manim\\scene\\scene_file_writer.py\u001b\\\u001b[2mscene_file_writer.py\u001b[0m\u001b]8;;\u001b\\\u001b[2m:\u001b[0m\u001b]8;id=211556;file://C:\\tools\\Manim\\Lib\\site-packages\\manim\\scene\\scene_file_writer.py#527\u001b\\\u001b[2m527\u001b[0m\u001b]8;;\u001b\\\n",
       "\u001b[2;36m                    \u001b[0m         \u001b[32m'C:\\Yokota_Adan\\Egyetem\\mszo\\MOO\\MSZO-MOO-2023\\Video2\\media\\v\u001b[0m \u001b[2m                        \u001b[0m\n",
       "\u001b[2;36m                    \u001b[0m         \u001b[32mideos\\Video2\\480p15\\partial_movie_files\\oper\\1442284246_15843\u001b[0m \u001b[2m                        \u001b[0m\n",
       "\u001b[2;36m                    \u001b[0m         \u001b[32m04919_3068049330.mp4'\u001b[0m                                         \u001b[2m                        \u001b[0m\n"
      ]
     },
     "metadata": {},
     "output_type": "display_data"
    },
    {
     "data": {
      "text/html": [
       "<pre style=\"white-space:pre;overflow-x:auto;line-height:normal;font-family:Menlo,'DejaVu Sans Mono',consolas,'Courier New',monospace\"><span style=\"color: #7fbfbf; text-decoration-color: #7fbfbf\">[11/19/23 12:21:38] </span><span style=\"color: #008000; text-decoration-color: #008000\">INFO    </span> Animation <span style=\"color: #008000; text-decoration-color: #008000\">8</span> : Using cached data <span style=\"font-weight: bold\">(</span>hash :                           <a href=\"file://C:\\tools\\Manim\\Lib\\site-packages\\manim\\renderer\\cairo_renderer.py\" target=\"_blank\"><span style=\"color: #7f7f7f; text-decoration-color: #7f7f7f\">cairo_renderer.py</span></a><span style=\"color: #7f7f7f; text-decoration-color: #7f7f7f\">:</span><a href=\"file://C:\\tools\\Manim\\Lib\\site-packages\\manim\\renderer\\cairo_renderer.py#78\" target=\"_blank\"><span style=\"color: #7f7f7f; text-decoration-color: #7f7f7f\">78</span></a>\n",
       "<span style=\"color: #7fbfbf; text-decoration-color: #7fbfbf\">                    </span>         1442284246_1984595323_3312758912<span style=\"font-weight: bold\">)</span>                                 <span style=\"color: #7f7f7f; text-decoration-color: #7f7f7f\">                    </span>\n",
       "</pre>\n"
      ],
      "text/plain": [
       "\u001b[2;36m[11/19/23 12:21:38]\u001b[0m\u001b[2;36m \u001b[0m\u001b[32mINFO    \u001b[0m Animation \u001b[32m8\u001b[0m : Using cached data \u001b[1m(\u001b[0mhash :                           \u001b]8;id=359027;file://C:\\tools\\Manim\\Lib\\site-packages\\manim\\renderer\\cairo_renderer.py\u001b\\\u001b[2mcairo_renderer.py\u001b[0m\u001b]8;;\u001b\\\u001b[2m:\u001b[0m\u001b]8;id=583389;file://C:\\tools\\Manim\\Lib\\site-packages\\manim\\renderer\\cairo_renderer.py#78\u001b\\\u001b[2m78\u001b[0m\u001b]8;;\u001b\\\n",
       "\u001b[2;36m                    \u001b[0m         1442284246_1984595323_3312758912\u001b[1m)\u001b[0m                                 \u001b[2m                    \u001b[0m\n"
      ]
     },
     "metadata": {},
     "output_type": "display_data"
    },
    {
     "name": "stderr",
     "output_type": "stream",
     "text": [
      "                                                                                 \r"
     ]
    },
    {
     "data": {
      "text/html": [
       "<pre style=\"white-space:pre;overflow-x:auto;line-height:normal;font-family:Menlo,'DejaVu Sans Mono',consolas,'Courier New',monospace\"><span style=\"color: #7fbfbf; text-decoration-color: #7fbfbf\">[11/19/23 12:21:41] </span><span style=\"color: #008000; text-decoration-color: #008000\">INFO    </span> Animation <span style=\"color: #008000; text-decoration-color: #008000\">9</span> : Using cached data <span style=\"font-weight: bold\">(</span>hash :                           <a href=\"file://C:\\tools\\Manim\\Lib\\site-packages\\manim\\renderer\\cairo_renderer.py\" target=\"_blank\"><span style=\"color: #7f7f7f; text-decoration-color: #7f7f7f\">cairo_renderer.py</span></a><span style=\"color: #7f7f7f; text-decoration-color: #7f7f7f\">:</span><a href=\"file://C:\\tools\\Manim\\Lib\\site-packages\\manim\\renderer\\cairo_renderer.py#78\" target=\"_blank\"><span style=\"color: #7f7f7f; text-decoration-color: #7f7f7f\">78</span></a>\n",
       "<span style=\"color: #7fbfbf; text-decoration-color: #7fbfbf\">                    </span>         1442284246_1076466279_3795428325<span style=\"font-weight: bold\">)</span>                                 <span style=\"color: #7f7f7f; text-decoration-color: #7f7f7f\">                    </span>\n",
       "</pre>\n"
      ],
      "text/plain": [
       "\u001b[2;36m[11/19/23 12:21:41]\u001b[0m\u001b[2;36m \u001b[0m\u001b[32mINFO    \u001b[0m Animation \u001b[32m9\u001b[0m : Using cached data \u001b[1m(\u001b[0mhash :                           \u001b]8;id=812120;file://C:\\tools\\Manim\\Lib\\site-packages\\manim\\renderer\\cairo_renderer.py\u001b\\\u001b[2mcairo_renderer.py\u001b[0m\u001b]8;;\u001b\\\u001b[2m:\u001b[0m\u001b]8;id=474571;file://C:\\tools\\Manim\\Lib\\site-packages\\manim\\renderer\\cairo_renderer.py#78\u001b\\\u001b[2m78\u001b[0m\u001b]8;;\u001b\\\n",
       "\u001b[2;36m                    \u001b[0m         1442284246_1076466279_3795428325\u001b[1m)\u001b[0m                                 \u001b[2m                    \u001b[0m\n"
      ]
     },
     "metadata": {},
     "output_type": "display_data"
    },
    {
     "name": "stderr",
     "output_type": "stream",
     "text": [
      "                                                                                                                      \r"
     ]
    },
    {
     "data": {
      "text/html": [
       "<pre style=\"white-space:pre;overflow-x:auto;line-height:normal;font-family:Menlo,'DejaVu Sans Mono',consolas,'Courier New',monospace\"><span style=\"color: #7fbfbf; text-decoration-color: #7fbfbf\">[11/19/23 12:21:52] </span><span style=\"color: #008000; text-decoration-color: #008000\">INFO    </span> Animation <span style=\"color: #008000; text-decoration-color: #008000\">10</span> : Partial movie file written in                  <a href=\"file://C:\\tools\\Manim\\Lib\\site-packages\\manim\\scene\\scene_file_writer.py\" target=\"_blank\"><span style=\"color: #7f7f7f; text-decoration-color: #7f7f7f\">scene_file_writer.py</span></a><span style=\"color: #7f7f7f; text-decoration-color: #7f7f7f\">:</span><a href=\"file://C:\\tools\\Manim\\Lib\\site-packages\\manim\\scene\\scene_file_writer.py#527\" target=\"_blank\"><span style=\"color: #7f7f7f; text-decoration-color: #7f7f7f\">527</span></a>\n",
       "<span style=\"color: #7fbfbf; text-decoration-color: #7fbfbf\">                    </span>         <span style=\"color: #008000; text-decoration-color: #008000\">'C:\\Yokota_Adan\\Egyetem\\mszo\\MOO\\MSZO-MOO-2023\\Video2\\media\\v</span> <span style=\"color: #7f7f7f; text-decoration-color: #7f7f7f\">                        </span>\n",
       "<span style=\"color: #7fbfbf; text-decoration-color: #7fbfbf\">                    </span>         <span style=\"color: #008000; text-decoration-color: #008000\">ideos\\Video2\\480p15\\partial_movie_files\\oper\\1442284246_40179</span> <span style=\"color: #7f7f7f; text-decoration-color: #7f7f7f\">                        </span>\n",
       "<span style=\"color: #7fbfbf; text-decoration-color: #7fbfbf\">                    </span>         <span style=\"color: #008000; text-decoration-color: #008000\">17201_215989383.mp4'</span>                                          <span style=\"color: #7f7f7f; text-decoration-color: #7f7f7f\">                        </span>\n",
       "</pre>\n"
      ],
      "text/plain": [
       "\u001b[2;36m[11/19/23 12:21:52]\u001b[0m\u001b[2;36m \u001b[0m\u001b[32mINFO    \u001b[0m Animation \u001b[32m10\u001b[0m : Partial movie file written in                  \u001b]8;id=27939;file://C:\\tools\\Manim\\Lib\\site-packages\\manim\\scene\\scene_file_writer.py\u001b\\\u001b[2mscene_file_writer.py\u001b[0m\u001b]8;;\u001b\\\u001b[2m:\u001b[0m\u001b]8;id=692186;file://C:\\tools\\Manim\\Lib\\site-packages\\manim\\scene\\scene_file_writer.py#527\u001b\\\u001b[2m527\u001b[0m\u001b]8;;\u001b\\\n",
       "\u001b[2;36m                    \u001b[0m         \u001b[32m'C:\\Yokota_Adan\\Egyetem\\mszo\\MOO\\MSZO-MOO-2023\\Video2\\media\\v\u001b[0m \u001b[2m                        \u001b[0m\n",
       "\u001b[2;36m                    \u001b[0m         \u001b[32mideos\\Video2\\480p15\\partial_movie_files\\oper\\1442284246_40179\u001b[0m \u001b[2m                        \u001b[0m\n",
       "\u001b[2;36m                    \u001b[0m         \u001b[32m17201_215989383.mp4'\u001b[0m                                          \u001b[2m                        \u001b[0m\n"
      ]
     },
     "metadata": {},
     "output_type": "display_data"
    },
    {
     "data": {
      "text/html": [
       "<pre style=\"white-space:pre;overflow-x:auto;line-height:normal;font-family:Menlo,'DejaVu Sans Mono',consolas,'Courier New',monospace\"><span style=\"color: #7fbfbf; text-decoration-color: #7fbfbf\">[11/19/23 12:21:55] </span><span style=\"color: #008000; text-decoration-color: #008000\">INFO    </span> Animation <span style=\"color: #008000; text-decoration-color: #008000\">11</span> : Partial movie file written in                  <a href=\"file://C:\\tools\\Manim\\Lib\\site-packages\\manim\\scene\\scene_file_writer.py\" target=\"_blank\"><span style=\"color: #7f7f7f; text-decoration-color: #7f7f7f\">scene_file_writer.py</span></a><span style=\"color: #7f7f7f; text-decoration-color: #7f7f7f\">:</span><a href=\"file://C:\\tools\\Manim\\Lib\\site-packages\\manim\\scene\\scene_file_writer.py#527\" target=\"_blank\"><span style=\"color: #7f7f7f; text-decoration-color: #7f7f7f\">527</span></a>\n",
       "<span style=\"color: #7fbfbf; text-decoration-color: #7fbfbf\">                    </span>         <span style=\"color: #008000; text-decoration-color: #008000\">'C:\\Yokota_Adan\\Egyetem\\mszo\\MOO\\MSZO-MOO-2023\\Video2\\media\\v</span> <span style=\"color: #7f7f7f; text-decoration-color: #7f7f7f\">                        </span>\n",
       "<span style=\"color: #7fbfbf; text-decoration-color: #7fbfbf\">                    </span>         <span style=\"color: #008000; text-decoration-color: #008000\">ideos\\Video2\\480p15\\partial_movie_files\\oper\\1442284246_33159</span> <span style=\"color: #7f7f7f; text-decoration-color: #7f7f7f\">                        </span>\n",
       "<span style=\"color: #7fbfbf; text-decoration-color: #7fbfbf\">                    </span>         <span style=\"color: #008000; text-decoration-color: #008000\">67912_2716278422.mp4'</span>                                         <span style=\"color: #7f7f7f; text-decoration-color: #7f7f7f\">                        </span>\n",
       "</pre>\n"
      ],
      "text/plain": [
       "\u001b[2;36m[11/19/23 12:21:55]\u001b[0m\u001b[2;36m \u001b[0m\u001b[32mINFO    \u001b[0m Animation \u001b[32m11\u001b[0m : Partial movie file written in                  \u001b]8;id=388665;file://C:\\tools\\Manim\\Lib\\site-packages\\manim\\scene\\scene_file_writer.py\u001b\\\u001b[2mscene_file_writer.py\u001b[0m\u001b]8;;\u001b\\\u001b[2m:\u001b[0m\u001b]8;id=159021;file://C:\\tools\\Manim\\Lib\\site-packages\\manim\\scene\\scene_file_writer.py#527\u001b\\\u001b[2m527\u001b[0m\u001b]8;;\u001b\\\n",
       "\u001b[2;36m                    \u001b[0m         \u001b[32m'C:\\Yokota_Adan\\Egyetem\\mszo\\MOO\\MSZO-MOO-2023\\Video2\\media\\v\u001b[0m \u001b[2m                        \u001b[0m\n",
       "\u001b[2;36m                    \u001b[0m         \u001b[32mideos\\Video2\\480p15\\partial_movie_files\\oper\\1442284246_33159\u001b[0m \u001b[2m                        \u001b[0m\n",
       "\u001b[2;36m                    \u001b[0m         \u001b[32m67912_2716278422.mp4'\u001b[0m                                         \u001b[2m                        \u001b[0m\n"
      ]
     },
     "metadata": {},
     "output_type": "display_data"
    },
    {
     "name": "stderr",
     "output_type": "stream",
     "text": [
      "                                                                                                                      \r"
     ]
    },
    {
     "data": {
      "text/html": [
       "<pre style=\"white-space:pre;overflow-x:auto;line-height:normal;font-family:Menlo,'DejaVu Sans Mono',consolas,'Courier New',monospace\"><span style=\"color: #7fbfbf; text-decoration-color: #7fbfbf\">[11/19/23 12:22:08] </span><span style=\"color: #008000; text-decoration-color: #008000\">INFO    </span> Animation <span style=\"color: #008000; text-decoration-color: #008000\">12</span> : Partial movie file written in                  <a href=\"file://C:\\tools\\Manim\\Lib\\site-packages\\manim\\scene\\scene_file_writer.py\" target=\"_blank\"><span style=\"color: #7f7f7f; text-decoration-color: #7f7f7f\">scene_file_writer.py</span></a><span style=\"color: #7f7f7f; text-decoration-color: #7f7f7f\">:</span><a href=\"file://C:\\tools\\Manim\\Lib\\site-packages\\manim\\scene\\scene_file_writer.py#527\" target=\"_blank\"><span style=\"color: #7f7f7f; text-decoration-color: #7f7f7f\">527</span></a>\n",
       "<span style=\"color: #7fbfbf; text-decoration-color: #7fbfbf\">                    </span>         <span style=\"color: #008000; text-decoration-color: #008000\">'C:\\Yokota_Adan\\Egyetem\\mszo\\MOO\\MSZO-MOO-2023\\Video2\\media\\v</span> <span style=\"color: #7f7f7f; text-decoration-color: #7f7f7f\">                        </span>\n",
       "<span style=\"color: #7fbfbf; text-decoration-color: #7fbfbf\">                    </span>         <span style=\"color: #008000; text-decoration-color: #008000\">ideos\\Video2\\480p15\\partial_movie_files\\oper\\1442284246_26001</span> <span style=\"color: #7f7f7f; text-decoration-color: #7f7f7f\">                        </span>\n",
       "<span style=\"color: #7fbfbf; text-decoration-color: #7fbfbf\">                    </span>         <span style=\"color: #008000; text-decoration-color: #008000\">92025_328775001.mp4'</span>                                          <span style=\"color: #7f7f7f; text-decoration-color: #7f7f7f\">                        </span>\n",
       "</pre>\n"
      ],
      "text/plain": [
       "\u001b[2;36m[11/19/23 12:22:08]\u001b[0m\u001b[2;36m \u001b[0m\u001b[32mINFO    \u001b[0m Animation \u001b[32m12\u001b[0m : Partial movie file written in                  \u001b]8;id=6469;file://C:\\tools\\Manim\\Lib\\site-packages\\manim\\scene\\scene_file_writer.py\u001b\\\u001b[2mscene_file_writer.py\u001b[0m\u001b]8;;\u001b\\\u001b[2m:\u001b[0m\u001b]8;id=785931;file://C:\\tools\\Manim\\Lib\\site-packages\\manim\\scene\\scene_file_writer.py#527\u001b\\\u001b[2m527\u001b[0m\u001b]8;;\u001b\\\n",
       "\u001b[2;36m                    \u001b[0m         \u001b[32m'C:\\Yokota_Adan\\Egyetem\\mszo\\MOO\\MSZO-MOO-2023\\Video2\\media\\v\u001b[0m \u001b[2m                        \u001b[0m\n",
       "\u001b[2;36m                    \u001b[0m         \u001b[32mideos\\Video2\\480p15\\partial_movie_files\\oper\\1442284246_26001\u001b[0m \u001b[2m                        \u001b[0m\n",
       "\u001b[2;36m                    \u001b[0m         \u001b[32m92025_328775001.mp4'\u001b[0m                                          \u001b[2m                        \u001b[0m\n"
      ]
     },
     "metadata": {},
     "output_type": "display_data"
    },
    {
     "data": {
      "text/html": [
       "<pre style=\"white-space:pre;overflow-x:auto;line-height:normal;font-family:Menlo,'DejaVu Sans Mono',consolas,'Courier New',monospace\"><span style=\"color: #7fbfbf; text-decoration-color: #7fbfbf\">[11/19/23 12:22:11] </span><span style=\"color: #008000; text-decoration-color: #008000\">INFO    </span> Animation <span style=\"color: #008000; text-decoration-color: #008000\">13</span> : Partial movie file written in                  <a href=\"file://C:\\tools\\Manim\\Lib\\site-packages\\manim\\scene\\scene_file_writer.py\" target=\"_blank\"><span style=\"color: #7f7f7f; text-decoration-color: #7f7f7f\">scene_file_writer.py</span></a><span style=\"color: #7f7f7f; text-decoration-color: #7f7f7f\">:</span><a href=\"file://C:\\tools\\Manim\\Lib\\site-packages\\manim\\scene\\scene_file_writer.py#527\" target=\"_blank\"><span style=\"color: #7f7f7f; text-decoration-color: #7f7f7f\">527</span></a>\n",
       "<span style=\"color: #7fbfbf; text-decoration-color: #7fbfbf\">                    </span>         <span style=\"color: #008000; text-decoration-color: #008000\">'C:\\Yokota_Adan\\Egyetem\\mszo\\MOO\\MSZO-MOO-2023\\Video2\\media\\v</span> <span style=\"color: #7f7f7f; text-decoration-color: #7f7f7f\">                        </span>\n",
       "<span style=\"color: #7fbfbf; text-decoration-color: #7fbfbf\">                    </span>         <span style=\"color: #008000; text-decoration-color: #008000\">ideos\\Video2\\480p15\\partial_movie_files\\oper\\1380718205_33159</span> <span style=\"color: #7f7f7f; text-decoration-color: #7f7f7f\">                        </span>\n",
       "<span style=\"color: #7fbfbf; text-decoration-color: #7fbfbf\">                    </span>         <span style=\"color: #008000; text-decoration-color: #008000\">67912_3900695253.mp4'</span>                                         <span style=\"color: #7f7f7f; text-decoration-color: #7f7f7f\">                        </span>\n",
       "</pre>\n"
      ],
      "text/plain": [
       "\u001b[2;36m[11/19/23 12:22:11]\u001b[0m\u001b[2;36m \u001b[0m\u001b[32mINFO    \u001b[0m Animation \u001b[32m13\u001b[0m : Partial movie file written in                  \u001b]8;id=851720;file://C:\\tools\\Manim\\Lib\\site-packages\\manim\\scene\\scene_file_writer.py\u001b\\\u001b[2mscene_file_writer.py\u001b[0m\u001b]8;;\u001b\\\u001b[2m:\u001b[0m\u001b]8;id=104019;file://C:\\tools\\Manim\\Lib\\site-packages\\manim\\scene\\scene_file_writer.py#527\u001b\\\u001b[2m527\u001b[0m\u001b]8;;\u001b\\\n",
       "\u001b[2;36m                    \u001b[0m         \u001b[32m'C:\\Yokota_Adan\\Egyetem\\mszo\\MOO\\MSZO-MOO-2023\\Video2\\media\\v\u001b[0m \u001b[2m                        \u001b[0m\n",
       "\u001b[2;36m                    \u001b[0m         \u001b[32mideos\\Video2\\480p15\\partial_movie_files\\oper\\1380718205_33159\u001b[0m \u001b[2m                        \u001b[0m\n",
       "\u001b[2;36m                    \u001b[0m         \u001b[32m67912_3900695253.mp4'\u001b[0m                                         \u001b[2m                        \u001b[0m\n"
      ]
     },
     "metadata": {},
     "output_type": "display_data"
    },
    {
     "data": {
      "text/html": [
       "<pre style=\"white-space:pre;overflow-x:auto;line-height:normal;font-family:Menlo,'DejaVu Sans Mono',consolas,'Courier New',monospace\"><span style=\"color: #7fbfbf; text-decoration-color: #7fbfbf\">[11/19/23 12:22:14] </span><span style=\"color: #008000; text-decoration-color: #008000\">INFO    </span> Animation <span style=\"color: #008000; text-decoration-color: #008000\">14</span> : Using cached data <span style=\"font-weight: bold\">(</span>hash :                          <a href=\"file://C:\\tools\\Manim\\Lib\\site-packages\\manim\\renderer\\cairo_renderer.py\" target=\"_blank\"><span style=\"color: #7f7f7f; text-decoration-color: #7f7f7f\">cairo_renderer.py</span></a><span style=\"color: #7f7f7f; text-decoration-color: #7f7f7f\">:</span><a href=\"file://C:\\tools\\Manim\\Lib\\site-packages\\manim\\renderer\\cairo_renderer.py#78\" target=\"_blank\"><span style=\"color: #7f7f7f; text-decoration-color: #7f7f7f\">78</span></a>\n",
       "<span style=\"color: #7fbfbf; text-decoration-color: #7fbfbf\">                    </span>         1442284246_3680579824_2564799327<span style=\"font-weight: bold\">)</span>                                 <span style=\"color: #7f7f7f; text-decoration-color: #7f7f7f\">                    </span>\n",
       "</pre>\n"
      ],
      "text/plain": [
       "\u001b[2;36m[11/19/23 12:22:14]\u001b[0m\u001b[2;36m \u001b[0m\u001b[32mINFO    \u001b[0m Animation \u001b[32m14\u001b[0m : Using cached data \u001b[1m(\u001b[0mhash :                          \u001b]8;id=156231;file://C:\\tools\\Manim\\Lib\\site-packages\\manim\\renderer\\cairo_renderer.py\u001b\\\u001b[2mcairo_renderer.py\u001b[0m\u001b]8;;\u001b\\\u001b[2m:\u001b[0m\u001b]8;id=28366;file://C:\\tools\\Manim\\Lib\\site-packages\\manim\\renderer\\cairo_renderer.py#78\u001b\\\u001b[2m78\u001b[0m\u001b]8;;\u001b\\\n",
       "\u001b[2;36m                    \u001b[0m         1442284246_3680579824_2564799327\u001b[1m)\u001b[0m                                 \u001b[2m                    \u001b[0m\n"
      ]
     },
     "metadata": {},
     "output_type": "display_data"
    },
    {
     "name": "stderr",
     "output_type": "stream",
     "text": [
      "                                                                                 \r"
     ]
    },
    {
     "data": {
      "text/html": [
       "<pre style=\"white-space:pre;overflow-x:auto;line-height:normal;font-family:Menlo,'DejaVu Sans Mono',consolas,'Courier New',monospace\"><span style=\"color: #7fbfbf; text-decoration-color: #7fbfbf\">[11/19/23 12:22:19] </span><span style=\"color: #008000; text-decoration-color: #008000\">INFO    </span> Animation <span style=\"color: #008000; text-decoration-color: #008000\">15</span> : Using cached data <span style=\"font-weight: bold\">(</span>hash :                          <a href=\"file://C:\\tools\\Manim\\Lib\\site-packages\\manim\\renderer\\cairo_renderer.py\" target=\"_blank\"><span style=\"color: #7f7f7f; text-decoration-color: #7f7f7f\">cairo_renderer.py</span></a><span style=\"color: #7f7f7f; text-decoration-color: #7f7f7f\">:</span><a href=\"file://C:\\tools\\Manim\\Lib\\site-packages\\manim\\renderer\\cairo_renderer.py#78\" target=\"_blank\"><span style=\"color: #7f7f7f; text-decoration-color: #7f7f7f\">78</span></a>\n",
       "<span style=\"color: #7fbfbf; text-decoration-color: #7fbfbf\">                    </span>         1442284246_3365708477_2444342059<span style=\"font-weight: bold\">)</span>                                 <span style=\"color: #7f7f7f; text-decoration-color: #7f7f7f\">                    </span>\n",
       "</pre>\n"
      ],
      "text/plain": [
       "\u001b[2;36m[11/19/23 12:22:19]\u001b[0m\u001b[2;36m \u001b[0m\u001b[32mINFO    \u001b[0m Animation \u001b[32m15\u001b[0m : Using cached data \u001b[1m(\u001b[0mhash :                          \u001b]8;id=340167;file://C:\\tools\\Manim\\Lib\\site-packages\\manim\\renderer\\cairo_renderer.py\u001b\\\u001b[2mcairo_renderer.py\u001b[0m\u001b]8;;\u001b\\\u001b[2m:\u001b[0m\u001b]8;id=130609;file://C:\\tools\\Manim\\Lib\\site-packages\\manim\\renderer\\cairo_renderer.py#78\u001b\\\u001b[2m78\u001b[0m\u001b]8;;\u001b\\\n",
       "\u001b[2;36m                    \u001b[0m         1442284246_3365708477_2444342059\u001b[1m)\u001b[0m                                 \u001b[2m                    \u001b[0m\n"
      ]
     },
     "metadata": {},
     "output_type": "display_data"
    },
    {
     "name": "stderr",
     "output_type": "stream",
     "text": [
      "                                                                                                                                                                                                                                                                   \r"
     ]
    },
    {
     "data": {
      "text/html": [
       "<pre style=\"white-space:pre;overflow-x:auto;line-height:normal;font-family:Menlo,'DejaVu Sans Mono',consolas,'Courier New',monospace\"><span style=\"color: #7fbfbf; text-decoration-color: #7fbfbf\">[11/19/23 12:22:21] </span><span style=\"color: #008000; text-decoration-color: #008000\">INFO    </span> Animation <span style=\"color: #008000; text-decoration-color: #008000\">16</span> : Using cached data <span style=\"font-weight: bold\">(</span>hash :                          <a href=\"file://C:\\tools\\Manim\\Lib\\site-packages\\manim\\renderer\\cairo_renderer.py\" target=\"_blank\"><span style=\"color: #7f7f7f; text-decoration-color: #7f7f7f\">cairo_renderer.py</span></a><span style=\"color: #7f7f7f; text-decoration-color: #7f7f7f\">:</span><a href=\"file://C:\\tools\\Manim\\Lib\\site-packages\\manim\\renderer\\cairo_renderer.py#78\" target=\"_blank\"><span style=\"color: #7f7f7f; text-decoration-color: #7f7f7f\">78</span></a>\n",
       "<span style=\"color: #7fbfbf; text-decoration-color: #7fbfbf\">                    </span>         1442284246_329969645_3067878183<span style=\"font-weight: bold\">)</span>                                  <span style=\"color: #7f7f7f; text-decoration-color: #7f7f7f\">                    </span>\n",
       "</pre>\n"
      ],
      "text/plain": [
       "\u001b[2;36m[11/19/23 12:22:21]\u001b[0m\u001b[2;36m \u001b[0m\u001b[32mINFO    \u001b[0m Animation \u001b[32m16\u001b[0m : Using cached data \u001b[1m(\u001b[0mhash :                          \u001b]8;id=360657;file://C:\\tools\\Manim\\Lib\\site-packages\\manim\\renderer\\cairo_renderer.py\u001b\\\u001b[2mcairo_renderer.py\u001b[0m\u001b]8;;\u001b\\\u001b[2m:\u001b[0m\u001b]8;id=772150;file://C:\\tools\\Manim\\Lib\\site-packages\\manim\\renderer\\cairo_renderer.py#78\u001b\\\u001b[2m78\u001b[0m\u001b]8;;\u001b\\\n",
       "\u001b[2;36m                    \u001b[0m         1442284246_329969645_3067878183\u001b[1m)\u001b[0m                                  \u001b[2m                    \u001b[0m\n"
      ]
     },
     "metadata": {},
     "output_type": "display_data"
    },
    {
     "data": {
      "text/html": [
       "<pre style=\"white-space:pre;overflow-x:auto;line-height:normal;font-family:Menlo,'DejaVu Sans Mono',consolas,'Courier New',monospace\"><span style=\"color: #7fbfbf; text-decoration-color: #7fbfbf\">[11/19/23 12:22:22] </span><span style=\"color: #008000; text-decoration-color: #008000\">INFO    </span> Animation <span style=\"color: #008000; text-decoration-color: #008000\">17</span> : Using cached data <span style=\"font-weight: bold\">(</span>hash :                          <a href=\"file://C:\\tools\\Manim\\Lib\\site-packages\\manim\\renderer\\cairo_renderer.py\" target=\"_blank\"><span style=\"color: #7f7f7f; text-decoration-color: #7f7f7f\">cairo_renderer.py</span></a><span style=\"color: #7f7f7f; text-decoration-color: #7f7f7f\">:</span><a href=\"file://C:\\tools\\Manim\\Lib\\site-packages\\manim\\renderer\\cairo_renderer.py#78\" target=\"_blank\"><span style=\"color: #7f7f7f; text-decoration-color: #7f7f7f\">78</span></a>\n",
       "<span style=\"color: #7fbfbf; text-decoration-color: #7fbfbf\">                    </span>         1442284246_4045318733_3687849430<span style=\"font-weight: bold\">)</span>                                 <span style=\"color: #7f7f7f; text-decoration-color: #7f7f7f\">                    </span>\n",
       "</pre>\n"
      ],
      "text/plain": [
       "\u001b[2;36m[11/19/23 12:22:22]\u001b[0m\u001b[2;36m \u001b[0m\u001b[32mINFO    \u001b[0m Animation \u001b[32m17\u001b[0m : Using cached data \u001b[1m(\u001b[0mhash :                          \u001b]8;id=882904;file://C:\\tools\\Manim\\Lib\\site-packages\\manim\\renderer\\cairo_renderer.py\u001b\\\u001b[2mcairo_renderer.py\u001b[0m\u001b]8;;\u001b\\\u001b[2m:\u001b[0m\u001b]8;id=290472;file://C:\\tools\\Manim\\Lib\\site-packages\\manim\\renderer\\cairo_renderer.py#78\u001b\\\u001b[2m78\u001b[0m\u001b]8;;\u001b\\\n",
       "\u001b[2;36m                    \u001b[0m         1442284246_4045318733_3687849430\u001b[1m)\u001b[0m                                 \u001b[2m                    \u001b[0m\n"
      ]
     },
     "metadata": {},
     "output_type": "display_data"
    },
    {
     "name": "stderr",
     "output_type": "stream",
     "text": [
      "                                                                                                                                                                                                                                                                     \r"
     ]
    },
    {
     "data": {
      "text/html": [
       "<pre style=\"white-space:pre;overflow-x:auto;line-height:normal;font-family:Menlo,'DejaVu Sans Mono',consolas,'Courier New',monospace\"><span style=\"color: #7fbfbf; text-decoration-color: #7fbfbf\">[11/19/23 12:22:25] </span><span style=\"color: #008000; text-decoration-color: #008000\">INFO    </span> Animation <span style=\"color: #008000; text-decoration-color: #008000\">18</span> : Partial movie file written in                  <a href=\"file://C:\\tools\\Manim\\Lib\\site-packages\\manim\\scene\\scene_file_writer.py\" target=\"_blank\"><span style=\"color: #7f7f7f; text-decoration-color: #7f7f7f\">scene_file_writer.py</span></a><span style=\"color: #7f7f7f; text-decoration-color: #7f7f7f\">:</span><a href=\"file://C:\\tools\\Manim\\Lib\\site-packages\\manim\\scene\\scene_file_writer.py#527\" target=\"_blank\"><span style=\"color: #7f7f7f; text-decoration-color: #7f7f7f\">527</span></a>\n",
       "<span style=\"color: #7fbfbf; text-decoration-color: #7fbfbf\">                    </span>         <span style=\"color: #008000; text-decoration-color: #008000\">'C:\\Yokota_Adan\\Egyetem\\mszo\\MOO\\MSZO-MOO-2023\\Video2\\media\\v</span> <span style=\"color: #7f7f7f; text-decoration-color: #7f7f7f\">                        </span>\n",
       "<span style=\"color: #7fbfbf; text-decoration-color: #7fbfbf\">                    </span>         <span style=\"color: #008000; text-decoration-color: #008000\">ideos\\Video2\\480p15\\partial_movie_files\\oper\\1442284246_19854</span> <span style=\"color: #7f7f7f; text-decoration-color: #7f7f7f\">                        </span>\n",
       "<span style=\"color: #7fbfbf; text-decoration-color: #7fbfbf\">                    </span>         <span style=\"color: #008000; text-decoration-color: #008000\">30917_1908449404.mp4'</span>                                         <span style=\"color: #7f7f7f; text-decoration-color: #7f7f7f\">                        </span>\n",
       "</pre>\n"
      ],
      "text/plain": [
       "\u001b[2;36m[11/19/23 12:22:25]\u001b[0m\u001b[2;36m \u001b[0m\u001b[32mINFO    \u001b[0m Animation \u001b[32m18\u001b[0m : Partial movie file written in                  \u001b]8;id=570230;file://C:\\tools\\Manim\\Lib\\site-packages\\manim\\scene\\scene_file_writer.py\u001b\\\u001b[2mscene_file_writer.py\u001b[0m\u001b]8;;\u001b\\\u001b[2m:\u001b[0m\u001b]8;id=303922;file://C:\\tools\\Manim\\Lib\\site-packages\\manim\\scene\\scene_file_writer.py#527\u001b\\\u001b[2m527\u001b[0m\u001b]8;;\u001b\\\n",
       "\u001b[2;36m                    \u001b[0m         \u001b[32m'C:\\Yokota_Adan\\Egyetem\\mszo\\MOO\\MSZO-MOO-2023\\Video2\\media\\v\u001b[0m \u001b[2m                        \u001b[0m\n",
       "\u001b[2;36m                    \u001b[0m         \u001b[32mideos\\Video2\\480p15\\partial_movie_files\\oper\\1442284246_19854\u001b[0m \u001b[2m                        \u001b[0m\n",
       "\u001b[2;36m                    \u001b[0m         \u001b[32m30917_1908449404.mp4'\u001b[0m                                         \u001b[2m                        \u001b[0m\n"
      ]
     },
     "metadata": {},
     "output_type": "display_data"
    },
    {
     "data": {
      "text/html": [
       "<pre style=\"white-space:pre;overflow-x:auto;line-height:normal;font-family:Menlo,'DejaVu Sans Mono',consolas,'Courier New',monospace\"><span style=\"color: #7fbfbf; text-decoration-color: #7fbfbf\">[11/19/23 12:22:26] </span><span style=\"color: #008000; text-decoration-color: #008000\">INFO    </span> Animation <span style=\"color: #008000; text-decoration-color: #008000\">19</span> : Partial movie file written in                  <a href=\"file://C:\\tools\\Manim\\Lib\\site-packages\\manim\\scene\\scene_file_writer.py\" target=\"_blank\"><span style=\"color: #7f7f7f; text-decoration-color: #7f7f7f\">scene_file_writer.py</span></a><span style=\"color: #7f7f7f; text-decoration-color: #7f7f7f\">:</span><a href=\"file://C:\\tools\\Manim\\Lib\\site-packages\\manim\\scene\\scene_file_writer.py#527\" target=\"_blank\"><span style=\"color: #7f7f7f; text-decoration-color: #7f7f7f\">527</span></a>\n",
       "<span style=\"color: #7fbfbf; text-decoration-color: #7fbfbf\">                    </span>         <span style=\"color: #008000; text-decoration-color: #008000\">'C:\\Yokota_Adan\\Egyetem\\mszo\\MOO\\MSZO-MOO-2023\\Video2\\media\\v</span> <span style=\"color: #7f7f7f; text-decoration-color: #7f7f7f\">                        </span>\n",
       "<span style=\"color: #7fbfbf; text-decoration-color: #7fbfbf\">                    </span>         <span style=\"color: #008000; text-decoration-color: #008000\">ideos\\Video2\\480p15\\partial_movie_files\\oper\\1442284246_34535</span> <span style=\"color: #7f7f7f; text-decoration-color: #7f7f7f\">                        </span>\n",
       "<span style=\"color: #7fbfbf; text-decoration-color: #7fbfbf\">                    </span>         <span style=\"color: #008000; text-decoration-color: #008000\">2296_2461808709.mp4'</span>                                          <span style=\"color: #7f7f7f; text-decoration-color: #7f7f7f\">                        </span>\n",
       "</pre>\n"
      ],
      "text/plain": [
       "\u001b[2;36m[11/19/23 12:22:26]\u001b[0m\u001b[2;36m \u001b[0m\u001b[32mINFO    \u001b[0m Animation \u001b[32m19\u001b[0m : Partial movie file written in                  \u001b]8;id=82179;file://C:\\tools\\Manim\\Lib\\site-packages\\manim\\scene\\scene_file_writer.py\u001b\\\u001b[2mscene_file_writer.py\u001b[0m\u001b]8;;\u001b\\\u001b[2m:\u001b[0m\u001b]8;id=735313;file://C:\\tools\\Manim\\Lib\\site-packages\\manim\\scene\\scene_file_writer.py#527\u001b\\\u001b[2m527\u001b[0m\u001b]8;;\u001b\\\n",
       "\u001b[2;36m                    \u001b[0m         \u001b[32m'C:\\Yokota_Adan\\Egyetem\\mszo\\MOO\\MSZO-MOO-2023\\Video2\\media\\v\u001b[0m \u001b[2m                        \u001b[0m\n",
       "\u001b[2;36m                    \u001b[0m         \u001b[32mideos\\Video2\\480p15\\partial_movie_files\\oper\\1442284246_34535\u001b[0m \u001b[2m                        \u001b[0m\n",
       "\u001b[2;36m                    \u001b[0m         \u001b[32m2296_2461808709.mp4'\u001b[0m                                          \u001b[2m                        \u001b[0m\n"
      ]
     },
     "metadata": {},
     "output_type": "display_data"
    },
    {
     "name": "stderr",
     "output_type": "stream",
     "text": [
      "                                                                                              \r"
     ]
    },
    {
     "data": {
      "text/html": [
       "<pre style=\"white-space:pre;overflow-x:auto;line-height:normal;font-family:Menlo,'DejaVu Sans Mono',consolas,'Courier New',monospace\"><span style=\"color: #7fbfbf; text-decoration-color: #7fbfbf\">[11/19/23 12:22:28] </span><span style=\"color: #008000; text-decoration-color: #008000\">INFO    </span> Animation <span style=\"color: #008000; text-decoration-color: #008000\">20</span> : Partial movie file written in                  <a href=\"file://C:\\tools\\Manim\\Lib\\site-packages\\manim\\scene\\scene_file_writer.py\" target=\"_blank\"><span style=\"color: #7f7f7f; text-decoration-color: #7f7f7f\">scene_file_writer.py</span></a><span style=\"color: #7f7f7f; text-decoration-color: #7f7f7f\">:</span><a href=\"file://C:\\tools\\Manim\\Lib\\site-packages\\manim\\scene\\scene_file_writer.py#527\" target=\"_blank\"><span style=\"color: #7f7f7f; text-decoration-color: #7f7f7f\">527</span></a>\n",
       "<span style=\"color: #7fbfbf; text-decoration-color: #7fbfbf\">                    </span>         <span style=\"color: #008000; text-decoration-color: #008000\">'C:\\Yokota_Adan\\Egyetem\\mszo\\MOO\\MSZO-MOO-2023\\Video2\\media\\v</span> <span style=\"color: #7f7f7f; text-decoration-color: #7f7f7f\">                        </span>\n",
       "<span style=\"color: #7fbfbf; text-decoration-color: #7fbfbf\">                    </span>         <span style=\"color: #008000; text-decoration-color: #008000\">ideos\\Video2\\480p15\\partial_movie_files\\oper\\1442284246_22701</span> <span style=\"color: #7f7f7f; text-decoration-color: #7f7f7f\">                        </span>\n",
       "<span style=\"color: #7fbfbf; text-decoration-color: #7fbfbf\">                    </span>         <span style=\"color: #008000; text-decoration-color: #008000\">35375_2064322567.mp4'</span>                                         <span style=\"color: #7f7f7f; text-decoration-color: #7f7f7f\">                        </span>\n",
       "</pre>\n"
      ],
      "text/plain": [
       "\u001b[2;36m[11/19/23 12:22:28]\u001b[0m\u001b[2;36m \u001b[0m\u001b[32mINFO    \u001b[0m Animation \u001b[32m20\u001b[0m : Partial movie file written in                  \u001b]8;id=102581;file://C:\\tools\\Manim\\Lib\\site-packages\\manim\\scene\\scene_file_writer.py\u001b\\\u001b[2mscene_file_writer.py\u001b[0m\u001b]8;;\u001b\\\u001b[2m:\u001b[0m\u001b]8;id=433801;file://C:\\tools\\Manim\\Lib\\site-packages\\manim\\scene\\scene_file_writer.py#527\u001b\\\u001b[2m527\u001b[0m\u001b]8;;\u001b\\\n",
       "\u001b[2;36m                    \u001b[0m         \u001b[32m'C:\\Yokota_Adan\\Egyetem\\mszo\\MOO\\MSZO-MOO-2023\\Video2\\media\\v\u001b[0m \u001b[2m                        \u001b[0m\n",
       "\u001b[2;36m                    \u001b[0m         \u001b[32mideos\\Video2\\480p15\\partial_movie_files\\oper\\1442284246_22701\u001b[0m \u001b[2m                        \u001b[0m\n",
       "\u001b[2;36m                    \u001b[0m         \u001b[32m35375_2064322567.mp4'\u001b[0m                                         \u001b[2m                        \u001b[0m\n"
      ]
     },
     "metadata": {},
     "output_type": "display_data"
    },
    {
     "data": {
      "text/html": [
       "<pre style=\"white-space:pre;overflow-x:auto;line-height:normal;font-family:Menlo,'DejaVu Sans Mono',consolas,'Courier New',monospace\"><span style=\"color: #7fbfbf; text-decoration-color: #7fbfbf\">[11/19/23 12:22:30] </span><span style=\"color: #008000; text-decoration-color: #008000\">INFO    </span> Animation <span style=\"color: #008000; text-decoration-color: #008000\">21</span> : Using cached data <span style=\"font-weight: bold\">(</span>hash :                          <a href=\"file://C:\\tools\\Manim\\Lib\\site-packages\\manim\\renderer\\cairo_renderer.py\" target=\"_blank\"><span style=\"color: #7f7f7f; text-decoration-color: #7f7f7f\">cairo_renderer.py</span></a><span style=\"color: #7f7f7f; text-decoration-color: #7f7f7f\">:</span><a href=\"file://C:\\tools\\Manim\\Lib\\site-packages\\manim\\renderer\\cairo_renderer.py#78\" target=\"_blank\"><span style=\"color: #7f7f7f; text-decoration-color: #7f7f7f\">78</span></a>\n",
       "<span style=\"color: #7fbfbf; text-decoration-color: #7fbfbf\">                    </span>         1442284246_3419137715_1485408365<span style=\"font-weight: bold\">)</span>                                 <span style=\"color: #7f7f7f; text-decoration-color: #7f7f7f\">                    </span>\n",
       "</pre>\n"
      ],
      "text/plain": [
       "\u001b[2;36m[11/19/23 12:22:30]\u001b[0m\u001b[2;36m \u001b[0m\u001b[32mINFO    \u001b[0m Animation \u001b[32m21\u001b[0m : Using cached data \u001b[1m(\u001b[0mhash :                          \u001b]8;id=708576;file://C:\\tools\\Manim\\Lib\\site-packages\\manim\\renderer\\cairo_renderer.py\u001b\\\u001b[2mcairo_renderer.py\u001b[0m\u001b]8;;\u001b\\\u001b[2m:\u001b[0m\u001b]8;id=377781;file://C:\\tools\\Manim\\Lib\\site-packages\\manim\\renderer\\cairo_renderer.py#78\u001b\\\u001b[2m78\u001b[0m\u001b]8;;\u001b\\\n",
       "\u001b[2;36m                    \u001b[0m         1442284246_3419137715_1485408365\u001b[1m)\u001b[0m                                 \u001b[2m                    \u001b[0m\n"
      ]
     },
     "metadata": {},
     "output_type": "display_data"
    },
    {
     "name": "stderr",
     "output_type": "stream",
     "text": [
      "                                                                                  \r"
     ]
    },
    {
     "data": {
      "text/html": [
       "<pre style=\"white-space:pre;overflow-x:auto;line-height:normal;font-family:Menlo,'DejaVu Sans Mono',consolas,'Courier New',monospace\"><span style=\"color: #7fbfbf; text-decoration-color: #7fbfbf\">[11/19/23 12:22:31] </span><span style=\"color: #008000; text-decoration-color: #008000\">INFO    </span> Animation <span style=\"color: #008000; text-decoration-color: #008000\">22</span> : Using cached data <span style=\"font-weight: bold\">(</span>hash :                          <a href=\"file://C:\\tools\\Manim\\Lib\\site-packages\\manim\\renderer\\cairo_renderer.py\" target=\"_blank\"><span style=\"color: #7f7f7f; text-decoration-color: #7f7f7f\">cairo_renderer.py</span></a><span style=\"color: #7f7f7f; text-decoration-color: #7f7f7f\">:</span><a href=\"file://C:\\tools\\Manim\\Lib\\site-packages\\manim\\renderer\\cairo_renderer.py#78\" target=\"_blank\"><span style=\"color: #7f7f7f; text-decoration-color: #7f7f7f\">78</span></a>\n",
       "<span style=\"color: #7fbfbf; text-decoration-color: #7fbfbf\">                    </span>         1442284246_329969645_2122392171<span style=\"font-weight: bold\">)</span>                                  <span style=\"color: #7f7f7f; text-decoration-color: #7f7f7f\">                    </span>\n",
       "</pre>\n"
      ],
      "text/plain": [
       "\u001b[2;36m[11/19/23 12:22:31]\u001b[0m\u001b[2;36m \u001b[0m\u001b[32mINFO    \u001b[0m Animation \u001b[32m22\u001b[0m : Using cached data \u001b[1m(\u001b[0mhash :                          \u001b]8;id=726111;file://C:\\tools\\Manim\\Lib\\site-packages\\manim\\renderer\\cairo_renderer.py\u001b\\\u001b[2mcairo_renderer.py\u001b[0m\u001b]8;;\u001b\\\u001b[2m:\u001b[0m\u001b]8;id=974862;file://C:\\tools\\Manim\\Lib\\site-packages\\manim\\renderer\\cairo_renderer.py#78\u001b\\\u001b[2m78\u001b[0m\u001b]8;;\u001b\\\n",
       "\u001b[2;36m                    \u001b[0m         1442284246_329969645_2122392171\u001b[1m)\u001b[0m                                  \u001b[2m                    \u001b[0m\n"
      ]
     },
     "metadata": {},
     "output_type": "display_data"
    },
    {
     "data": {
      "text/html": [
       "<pre style=\"white-space:pre;overflow-x:auto;line-height:normal;font-family:Menlo,'DejaVu Sans Mono',consolas,'Courier New',monospace\"><span style=\"color: #7fbfbf; text-decoration-color: #7fbfbf\">[11/19/23 12:22:32] </span><span style=\"color: #008000; text-decoration-color: #008000\">INFO    </span> Animation <span style=\"color: #008000; text-decoration-color: #008000\">23</span> : Using cached data <span style=\"font-weight: bold\">(</span>hash :                          <a href=\"file://C:\\tools\\Manim\\Lib\\site-packages\\manim\\renderer\\cairo_renderer.py\" target=\"_blank\"><span style=\"color: #7f7f7f; text-decoration-color: #7f7f7f\">cairo_renderer.py</span></a><span style=\"color: #7f7f7f; text-decoration-color: #7f7f7f\">:</span><a href=\"file://C:\\tools\\Manim\\Lib\\site-packages\\manim\\renderer\\cairo_renderer.py#78\" target=\"_blank\"><span style=\"color: #7f7f7f; text-decoration-color: #7f7f7f\">78</span></a>\n",
       "<span style=\"color: #7fbfbf; text-decoration-color: #7fbfbf\">                    </span>         1442284246_896908940_602555611<span style=\"font-weight: bold\">)</span>                                   <span style=\"color: #7f7f7f; text-decoration-color: #7f7f7f\">                    </span>\n",
       "</pre>\n"
      ],
      "text/plain": [
       "\u001b[2;36m[11/19/23 12:22:32]\u001b[0m\u001b[2;36m \u001b[0m\u001b[32mINFO    \u001b[0m Animation \u001b[32m23\u001b[0m : Using cached data \u001b[1m(\u001b[0mhash :                          \u001b]8;id=927999;file://C:\\tools\\Manim\\Lib\\site-packages\\manim\\renderer\\cairo_renderer.py\u001b\\\u001b[2mcairo_renderer.py\u001b[0m\u001b]8;;\u001b\\\u001b[2m:\u001b[0m\u001b]8;id=162482;file://C:\\tools\\Manim\\Lib\\site-packages\\manim\\renderer\\cairo_renderer.py#78\u001b\\\u001b[2m78\u001b[0m\u001b]8;;\u001b\\\n",
       "\u001b[2;36m                    \u001b[0m         1442284246_896908940_602555611\u001b[1m)\u001b[0m                                   \u001b[2m                    \u001b[0m\n"
      ]
     },
     "metadata": {},
     "output_type": "display_data"
    },
    {
     "name": "stderr",
     "output_type": "stream",
     "text": [
      "                                                                                   \r"
     ]
    },
    {
     "data": {
      "text/html": [
       "<pre style=\"white-space:pre;overflow-x:auto;line-height:normal;font-family:Menlo,'DejaVu Sans Mono',consolas,'Courier New',monospace\"><span style=\"color: #7fbfbf; text-decoration-color: #7fbfbf\">[11/19/23 12:22:34] </span><span style=\"color: #008000; text-decoration-color: #008000\">INFO    </span> Animation <span style=\"color: #008000; text-decoration-color: #008000\">24</span> : Using cached data <span style=\"font-weight: bold\">(</span>hash :                          <a href=\"file://C:\\tools\\Manim\\Lib\\site-packages\\manim\\renderer\\cairo_renderer.py\" target=\"_blank\"><span style=\"color: #7f7f7f; text-decoration-color: #7f7f7f\">cairo_renderer.py</span></a><span style=\"color: #7f7f7f; text-decoration-color: #7f7f7f\">:</span><a href=\"file://C:\\tools\\Manim\\Lib\\site-packages\\manim\\renderer\\cairo_renderer.py#78\" target=\"_blank\"><span style=\"color: #7f7f7f; text-decoration-color: #7f7f7f\">78</span></a>\n",
       "<span style=\"color: #7fbfbf; text-decoration-color: #7fbfbf\">                    </span>         1442284246_3349498241_3580314374<span style=\"font-weight: bold\">)</span>                                 <span style=\"color: #7f7f7f; text-decoration-color: #7f7f7f\">                    </span>\n",
       "</pre>\n"
      ],
      "text/plain": [
       "\u001b[2;36m[11/19/23 12:22:34]\u001b[0m\u001b[2;36m \u001b[0m\u001b[32mINFO    \u001b[0m Animation \u001b[32m24\u001b[0m : Using cached data \u001b[1m(\u001b[0mhash :                          \u001b]8;id=364275;file://C:\\tools\\Manim\\Lib\\site-packages\\manim\\renderer\\cairo_renderer.py\u001b\\\u001b[2mcairo_renderer.py\u001b[0m\u001b]8;;\u001b\\\u001b[2m:\u001b[0m\u001b]8;id=680754;file://C:\\tools\\Manim\\Lib\\site-packages\\manim\\renderer\\cairo_renderer.py#78\u001b\\\u001b[2m78\u001b[0m\u001b]8;;\u001b\\\n",
       "\u001b[2;36m                    \u001b[0m         1442284246_3349498241_3580314374\u001b[1m)\u001b[0m                                 \u001b[2m                    \u001b[0m\n"
      ]
     },
     "metadata": {},
     "output_type": "display_data"
    },
    {
     "name": "stderr",
     "output_type": "stream",
     "text": [
      "                                                                                               \r"
     ]
    },
    {
     "data": {
      "text/html": [
       "<pre style=\"white-space:pre;overflow-x:auto;line-height:normal;font-family:Menlo,'DejaVu Sans Mono',consolas,'Courier New',monospace\"><span style=\"color: #7fbfbf; text-decoration-color: #7fbfbf\">[11/19/23 12:22:38] </span><span style=\"color: #008000; text-decoration-color: #008000\">INFO    </span> Animation <span style=\"color: #008000; text-decoration-color: #008000\">25</span> : Using cached data <span style=\"font-weight: bold\">(</span>hash :                          <a href=\"file://C:\\tools\\Manim\\Lib\\site-packages\\manim\\renderer\\cairo_renderer.py\" target=\"_blank\"><span style=\"color: #7f7f7f; text-decoration-color: #7f7f7f\">cairo_renderer.py</span></a><span style=\"color: #7f7f7f; text-decoration-color: #7f7f7f\">:</span><a href=\"file://C:\\tools\\Manim\\Lib\\site-packages\\manim\\renderer\\cairo_renderer.py#78\" target=\"_blank\"><span style=\"color: #7f7f7f; text-decoration-color: #7f7f7f\">78</span></a>\n",
       "<span style=\"color: #7fbfbf; text-decoration-color: #7fbfbf\">                    </span>         1442284246_4033034344_2581600320<span style=\"font-weight: bold\">)</span>                                 <span style=\"color: #7f7f7f; text-decoration-color: #7f7f7f\">                    </span>\n",
       "</pre>\n"
      ],
      "text/plain": [
       "\u001b[2;36m[11/19/23 12:22:38]\u001b[0m\u001b[2;36m \u001b[0m\u001b[32mINFO    \u001b[0m Animation \u001b[32m25\u001b[0m : Using cached data \u001b[1m(\u001b[0mhash :                          \u001b]8;id=201410;file://C:\\tools\\Manim\\Lib\\site-packages\\manim\\renderer\\cairo_renderer.py\u001b\\\u001b[2mcairo_renderer.py\u001b[0m\u001b]8;;\u001b\\\u001b[2m:\u001b[0m\u001b]8;id=361487;file://C:\\tools\\Manim\\Lib\\site-packages\\manim\\renderer\\cairo_renderer.py#78\u001b\\\u001b[2m78\u001b[0m\u001b]8;;\u001b\\\n",
       "\u001b[2;36m                    \u001b[0m         1442284246_4033034344_2581600320\u001b[1m)\u001b[0m                                 \u001b[2m                    \u001b[0m\n"
      ]
     },
     "metadata": {},
     "output_type": "display_data"
    },
    {
     "name": "stderr",
     "output_type": "stream",
     "text": [
      "                                                                                                                                                                                                                                                                                                                                                                                                           \r"
     ]
    },
    {
     "data": {
      "text/html": [
       "<pre style=\"white-space:pre;overflow-x:auto;line-height:normal;font-family:Menlo,'DejaVu Sans Mono',consolas,'Courier New',monospace\"><span style=\"color: #7fbfbf; text-decoration-color: #7fbfbf\">[11/19/23 12:22:40] </span><span style=\"color: #008000; text-decoration-color: #008000\">INFO    </span> Animation <span style=\"color: #008000; text-decoration-color: #008000\">26</span> : Using cached data <span style=\"font-weight: bold\">(</span>hash :                          <a href=\"file://C:\\tools\\Manim\\Lib\\site-packages\\manim\\renderer\\cairo_renderer.py\" target=\"_blank\"><span style=\"color: #7f7f7f; text-decoration-color: #7f7f7f\">cairo_renderer.py</span></a><span style=\"color: #7f7f7f; text-decoration-color: #7f7f7f\">:</span><a href=\"file://C:\\tools\\Manim\\Lib\\site-packages\\manim\\renderer\\cairo_renderer.py#78\" target=\"_blank\"><span style=\"color: #7f7f7f; text-decoration-color: #7f7f7f\">78</span></a>\n",
       "<span style=\"color: #7fbfbf; text-decoration-color: #7fbfbf\">                    </span>         1442284246_329969645_3301338399<span style=\"font-weight: bold\">)</span>                                  <span style=\"color: #7f7f7f; text-decoration-color: #7f7f7f\">                    </span>\n",
       "</pre>\n"
      ],
      "text/plain": [
       "\u001b[2;36m[11/19/23 12:22:40]\u001b[0m\u001b[2;36m \u001b[0m\u001b[32mINFO    \u001b[0m Animation \u001b[32m26\u001b[0m : Using cached data \u001b[1m(\u001b[0mhash :                          \u001b]8;id=425570;file://C:\\tools\\Manim\\Lib\\site-packages\\manim\\renderer\\cairo_renderer.py\u001b\\\u001b[2mcairo_renderer.py\u001b[0m\u001b]8;;\u001b\\\u001b[2m:\u001b[0m\u001b]8;id=665061;file://C:\\tools\\Manim\\Lib\\site-packages\\manim\\renderer\\cairo_renderer.py#78\u001b\\\u001b[2m78\u001b[0m\u001b]8;;\u001b\\\n",
       "\u001b[2;36m                    \u001b[0m         1442284246_329969645_3301338399\u001b[1m)\u001b[0m                                  \u001b[2m                    \u001b[0m\n"
      ]
     },
     "metadata": {},
     "output_type": "display_data"
    },
    {
     "data": {
      "text/html": [
       "<pre style=\"white-space:pre;overflow-x:auto;line-height:normal;font-family:Menlo,'DejaVu Sans Mono',consolas,'Courier New',monospace\"><span style=\"color: #7fbfbf; text-decoration-color: #7fbfbf\">[11/19/23 12:22:45] </span><span style=\"color: #008000; text-decoration-color: #008000\">INFO    </span> Animation <span style=\"color: #008000; text-decoration-color: #008000\">27</span> : Using cached data <span style=\"font-weight: bold\">(</span>hash :                          <a href=\"file://C:\\tools\\Manim\\Lib\\site-packages\\manim\\renderer\\cairo_renderer.py\" target=\"_blank\"><span style=\"color: #7f7f7f; text-decoration-color: #7f7f7f\">cairo_renderer.py</span></a><span style=\"color: #7f7f7f; text-decoration-color: #7f7f7f\">:</span><a href=\"file://C:\\tools\\Manim\\Lib\\site-packages\\manim\\renderer\\cairo_renderer.py#78\" target=\"_blank\"><span style=\"color: #7f7f7f; text-decoration-color: #7f7f7f\">78</span></a>\n",
       "<span style=\"color: #7fbfbf; text-decoration-color: #7fbfbf\">                    </span>         1442284246_791755663_1405228234<span style=\"font-weight: bold\">)</span>                                  <span style=\"color: #7f7f7f; text-decoration-color: #7f7f7f\">                    </span>\n",
       "</pre>\n"
      ],
      "text/plain": [
       "\u001b[2;36m[11/19/23 12:22:45]\u001b[0m\u001b[2;36m \u001b[0m\u001b[32mINFO    \u001b[0m Animation \u001b[32m27\u001b[0m : Using cached data \u001b[1m(\u001b[0mhash :                          \u001b]8;id=72732;file://C:\\tools\\Manim\\Lib\\site-packages\\manim\\renderer\\cairo_renderer.py\u001b\\\u001b[2mcairo_renderer.py\u001b[0m\u001b]8;;\u001b\\\u001b[2m:\u001b[0m\u001b]8;id=431362;file://C:\\tools\\Manim\\Lib\\site-packages\\manim\\renderer\\cairo_renderer.py#78\u001b\\\u001b[2m78\u001b[0m\u001b]8;;\u001b\\\n",
       "\u001b[2;36m                    \u001b[0m         1442284246_791755663_1405228234\u001b[1m)\u001b[0m                                  \u001b[2m                    \u001b[0m\n"
      ]
     },
     "metadata": {},
     "output_type": "display_data"
    },
    {
     "name": "stderr",
     "output_type": "stream",
     "text": [
      "                                                                                                                                                                                                                                                                                                                                                                                                             \r"
     ]
    },
    {
     "data": {
      "text/html": [
       "<pre style=\"white-space:pre;overflow-x:auto;line-height:normal;font-family:Menlo,'DejaVu Sans Mono',consolas,'Courier New',monospace\"><span style=\"color: #7fbfbf; text-decoration-color: #7fbfbf\">[11/19/23 12:22:48] </span><span style=\"color: #008000; text-decoration-color: #008000\">INFO    </span> Animation <span style=\"color: #008000; text-decoration-color: #008000\">28</span> : Using cached data <span style=\"font-weight: bold\">(</span>hash :                          <a href=\"file://C:\\tools\\Manim\\Lib\\site-packages\\manim\\renderer\\cairo_renderer.py\" target=\"_blank\"><span style=\"color: #7f7f7f; text-decoration-color: #7f7f7f\">cairo_renderer.py</span></a><span style=\"color: #7f7f7f; text-decoration-color: #7f7f7f\">:</span><a href=\"file://C:\\tools\\Manim\\Lib\\site-packages\\manim\\renderer\\cairo_renderer.py#78\" target=\"_blank\"><span style=\"color: #7f7f7f; text-decoration-color: #7f7f7f\">78</span></a>\n",
       "<span style=\"color: #7fbfbf; text-decoration-color: #7fbfbf\">                    </span>         1442284246_1466488696_543837725<span style=\"font-weight: bold\">)</span>                                  <span style=\"color: #7f7f7f; text-decoration-color: #7f7f7f\">                    </span>\n",
       "</pre>\n"
      ],
      "text/plain": [
       "\u001b[2;36m[11/19/23 12:22:48]\u001b[0m\u001b[2;36m \u001b[0m\u001b[32mINFO    \u001b[0m Animation \u001b[32m28\u001b[0m : Using cached data \u001b[1m(\u001b[0mhash :                          \u001b]8;id=825023;file://C:\\tools\\Manim\\Lib\\site-packages\\manim\\renderer\\cairo_renderer.py\u001b\\\u001b[2mcairo_renderer.py\u001b[0m\u001b]8;;\u001b\\\u001b[2m:\u001b[0m\u001b]8;id=470483;file://C:\\tools\\Manim\\Lib\\site-packages\\manim\\renderer\\cairo_renderer.py#78\u001b\\\u001b[2m78\u001b[0m\u001b]8;;\u001b\\\n",
       "\u001b[2;36m                    \u001b[0m         1442284246_1466488696_543837725\u001b[1m)\u001b[0m                                  \u001b[2m                    \u001b[0m\n"
      ]
     },
     "metadata": {},
     "output_type": "display_data"
    },
    {
     "name": "stderr",
     "output_type": "stream",
     "text": [
      "                                                                                  \r"
     ]
    },
    {
     "data": {
      "text/html": [
       "<pre style=\"white-space:pre;overflow-x:auto;line-height:normal;font-family:Menlo,'DejaVu Sans Mono',consolas,'Courier New',monospace\"><span style=\"color: #7fbfbf; text-decoration-color: #7fbfbf\">[11/19/23 12:22:50] </span><span style=\"color: #008000; text-decoration-color: #008000\">INFO    </span> Animation <span style=\"color: #008000; text-decoration-color: #008000\">29</span> : Using cached data <span style=\"font-weight: bold\">(</span>hash :                          <a href=\"file://C:\\tools\\Manim\\Lib\\site-packages\\manim\\renderer\\cairo_renderer.py\" target=\"_blank\"><span style=\"color: #7f7f7f; text-decoration-color: #7f7f7f\">cairo_renderer.py</span></a><span style=\"color: #7f7f7f; text-decoration-color: #7f7f7f\">:</span><a href=\"file://C:\\tools\\Manim\\Lib\\site-packages\\manim\\renderer\\cairo_renderer.py#78\" target=\"_blank\"><span style=\"color: #7f7f7f; text-decoration-color: #7f7f7f\">78</span></a>\n",
       "<span style=\"color: #7fbfbf; text-decoration-color: #7fbfbf\">                    </span>         1442284246_329969645_2212543710<span style=\"font-weight: bold\">)</span>                                  <span style=\"color: #7f7f7f; text-decoration-color: #7f7f7f\">                    </span>\n",
       "</pre>\n"
      ],
      "text/plain": [
       "\u001b[2;36m[11/19/23 12:22:50]\u001b[0m\u001b[2;36m \u001b[0m\u001b[32mINFO    \u001b[0m Animation \u001b[32m29\u001b[0m : Using cached data \u001b[1m(\u001b[0mhash :                          \u001b]8;id=530077;file://C:\\tools\\Manim\\Lib\\site-packages\\manim\\renderer\\cairo_renderer.py\u001b\\\u001b[2mcairo_renderer.py\u001b[0m\u001b]8;;\u001b\\\u001b[2m:\u001b[0m\u001b]8;id=413638;file://C:\\tools\\Manim\\Lib\\site-packages\\manim\\renderer\\cairo_renderer.py#78\u001b\\\u001b[2m78\u001b[0m\u001b]8;;\u001b\\\n",
       "\u001b[2;36m                    \u001b[0m         1442284246_329969645_2212543710\u001b[1m)\u001b[0m                                  \u001b[2m                    \u001b[0m\n"
      ]
     },
     "metadata": {},
     "output_type": "display_data"
    },
    {
     "data": {
      "text/html": [
       "<pre style=\"white-space:pre;overflow-x:auto;line-height:normal;font-family:Menlo,'DejaVu Sans Mono',consolas,'Courier New',monospace\"><span style=\"color: #7fbfbf; text-decoration-color: #7fbfbf\">[11/19/23 12:22:54] </span><span style=\"color: #008000; text-decoration-color: #008000\">INFO    </span> Animation <span style=\"color: #008000; text-decoration-color: #008000\">30</span> : Using cached data <span style=\"font-weight: bold\">(</span>hash :                          <a href=\"file://C:\\tools\\Manim\\Lib\\site-packages\\manim\\renderer\\cairo_renderer.py\" target=\"_blank\"><span style=\"color: #7f7f7f; text-decoration-color: #7f7f7f\">cairo_renderer.py</span></a><span style=\"color: #7f7f7f; text-decoration-color: #7f7f7f\">:</span><a href=\"file://C:\\tools\\Manim\\Lib\\site-packages\\manim\\renderer\\cairo_renderer.py#78\" target=\"_blank\"><span style=\"color: #7f7f7f; text-decoration-color: #7f7f7f\">78</span></a>\n",
       "<span style=\"color: #7fbfbf; text-decoration-color: #7fbfbf\">                    </span>         1442284246_3143100884_1783288148<span style=\"font-weight: bold\">)</span>                                 <span style=\"color: #7f7f7f; text-decoration-color: #7f7f7f\">                    </span>\n",
       "</pre>\n"
      ],
      "text/plain": [
       "\u001b[2;36m[11/19/23 12:22:54]\u001b[0m\u001b[2;36m \u001b[0m\u001b[32mINFO    \u001b[0m Animation \u001b[32m30\u001b[0m : Using cached data \u001b[1m(\u001b[0mhash :                          \u001b]8;id=233781;file://C:\\tools\\Manim\\Lib\\site-packages\\manim\\renderer\\cairo_renderer.py\u001b\\\u001b[2mcairo_renderer.py\u001b[0m\u001b]8;;\u001b\\\u001b[2m:\u001b[0m\u001b]8;id=769733;file://C:\\tools\\Manim\\Lib\\site-packages\\manim\\renderer\\cairo_renderer.py#78\u001b\\\u001b[2m78\u001b[0m\u001b]8;;\u001b\\\n",
       "\u001b[2;36m                    \u001b[0m         1442284246_3143100884_1783288148\u001b[1m)\u001b[0m                                 \u001b[2m                    \u001b[0m\n"
      ]
     },
     "metadata": {},
     "output_type": "display_data"
    },
    {
     "name": "stderr",
     "output_type": "stream",
     "text": [
      "                                                                                             \r"
     ]
    },
    {
     "data": {
      "text/html": [
       "<pre style=\"white-space:pre;overflow-x:auto;line-height:normal;font-family:Menlo,'DejaVu Sans Mono',consolas,'Courier New',monospace\"><span style=\"color: #7fbfbf; text-decoration-color: #7fbfbf\">[11/19/23 12:22:59] </span><span style=\"color: #008000; text-decoration-color: #008000\">INFO    </span> Animation <span style=\"color: #008000; text-decoration-color: #008000\">31</span> : Partial movie file written in                  <a href=\"file://C:\\tools\\Manim\\Lib\\site-packages\\manim\\scene\\scene_file_writer.py\" target=\"_blank\"><span style=\"color: #7f7f7f; text-decoration-color: #7f7f7f\">scene_file_writer.py</span></a><span style=\"color: #7f7f7f; text-decoration-color: #7f7f7f\">:</span><a href=\"file://C:\\tools\\Manim\\Lib\\site-packages\\manim\\scene\\scene_file_writer.py#527\" target=\"_blank\"><span style=\"color: #7f7f7f; text-decoration-color: #7f7f7f\">527</span></a>\n",
       "<span style=\"color: #7fbfbf; text-decoration-color: #7fbfbf\">                    </span>         <span style=\"color: #008000; text-decoration-color: #008000\">'C:\\Yokota_Adan\\Egyetem\\mszo\\MOO\\MSZO-MOO-2023\\Video2\\media\\v</span> <span style=\"color: #7f7f7f; text-decoration-color: #7f7f7f\">                        </span>\n",
       "<span style=\"color: #7fbfbf; text-decoration-color: #7fbfbf\">                    </span>         <span style=\"color: #008000; text-decoration-color: #008000\">ideos\\Video2\\480p15\\partial_movie_files\\oper\\1442284246_32996</span> <span style=\"color: #7f7f7f; text-decoration-color: #7f7f7f\">                        </span>\n",
       "<span style=\"color: #7fbfbf; text-decoration-color: #7fbfbf\">                    </span>         <span style=\"color: #008000; text-decoration-color: #008000\">9645_1445484951.mp4'</span>                                          <span style=\"color: #7f7f7f; text-decoration-color: #7f7f7f\">                        </span>\n",
       "</pre>\n"
      ],
      "text/plain": [
       "\u001b[2;36m[11/19/23 12:22:59]\u001b[0m\u001b[2;36m \u001b[0m\u001b[32mINFO    \u001b[0m Animation \u001b[32m31\u001b[0m : Partial movie file written in                  \u001b]8;id=264237;file://C:\\tools\\Manim\\Lib\\site-packages\\manim\\scene\\scene_file_writer.py\u001b\\\u001b[2mscene_file_writer.py\u001b[0m\u001b]8;;\u001b\\\u001b[2m:\u001b[0m\u001b]8;id=67435;file://C:\\tools\\Manim\\Lib\\site-packages\\manim\\scene\\scene_file_writer.py#527\u001b\\\u001b[2m527\u001b[0m\u001b]8;;\u001b\\\n",
       "\u001b[2;36m                    \u001b[0m         \u001b[32m'C:\\Yokota_Adan\\Egyetem\\mszo\\MOO\\MSZO-MOO-2023\\Video2\\media\\v\u001b[0m \u001b[2m                        \u001b[0m\n",
       "\u001b[2;36m                    \u001b[0m         \u001b[32mideos\\Video2\\480p15\\partial_movie_files\\oper\\1442284246_32996\u001b[0m \u001b[2m                        \u001b[0m\n",
       "\u001b[2;36m                    \u001b[0m         \u001b[32m9645_1445484951.mp4'\u001b[0m                                          \u001b[2m                        \u001b[0m\n"
      ]
     },
     "metadata": {},
     "output_type": "display_data"
    },
    {
     "name": "stderr",
     "output_type": "stream",
     "text": [
      "                                                                                                     \r"
     ]
    },
    {
     "data": {
      "text/html": [
       "<pre style=\"white-space:pre;overflow-x:auto;line-height:normal;font-family:Menlo,'DejaVu Sans Mono',consolas,'Courier New',monospace\"><span style=\"color: #7fbfbf; text-decoration-color: #7fbfbf\">[11/19/23 12:23:19] </span><span style=\"color: #008000; text-decoration-color: #008000\">INFO    </span> Animation <span style=\"color: #008000; text-decoration-color: #008000\">32</span> : Partial movie file written in                  <a href=\"file://C:\\tools\\Manim\\Lib\\site-packages\\manim\\scene\\scene_file_writer.py\" target=\"_blank\"><span style=\"color: #7f7f7f; text-decoration-color: #7f7f7f\">scene_file_writer.py</span></a><span style=\"color: #7f7f7f; text-decoration-color: #7f7f7f\">:</span><a href=\"file://C:\\tools\\Manim\\Lib\\site-packages\\manim\\scene\\scene_file_writer.py#527\" target=\"_blank\"><span style=\"color: #7f7f7f; text-decoration-color: #7f7f7f\">527</span></a>\n",
       "<span style=\"color: #7fbfbf; text-decoration-color: #7fbfbf\">                    </span>         <span style=\"color: #008000; text-decoration-color: #008000\">'C:\\Yokota_Adan\\Egyetem\\mszo\\MOO\\MSZO-MOO-2023\\Video2\\media\\v</span> <span style=\"color: #7f7f7f; text-decoration-color: #7f7f7f\">                        </span>\n",
       "<span style=\"color: #7fbfbf; text-decoration-color: #7fbfbf\">                    </span>         <span style=\"color: #008000; text-decoration-color: #008000\">ideos\\Video2\\480p15\\partial_movie_files\\oper\\1442284246_26194</span> <span style=\"color: #7f7f7f; text-decoration-color: #7f7f7f\">                        </span>\n",
       "<span style=\"color: #7fbfbf; text-decoration-color: #7fbfbf\">                    </span>         <span style=\"color: #008000; text-decoration-color: #008000\">43421_3191009991.mp4'</span>                                         <span style=\"color: #7f7f7f; text-decoration-color: #7f7f7f\">                        </span>\n",
       "</pre>\n"
      ],
      "text/plain": [
       "\u001b[2;36m[11/19/23 12:23:19]\u001b[0m\u001b[2;36m \u001b[0m\u001b[32mINFO    \u001b[0m Animation \u001b[32m32\u001b[0m : Partial movie file written in                  \u001b]8;id=787506;file://C:\\tools\\Manim\\Lib\\site-packages\\manim\\scene\\scene_file_writer.py\u001b\\\u001b[2mscene_file_writer.py\u001b[0m\u001b]8;;\u001b\\\u001b[2m:\u001b[0m\u001b]8;id=818288;file://C:\\tools\\Manim\\Lib\\site-packages\\manim\\scene\\scene_file_writer.py#527\u001b\\\u001b[2m527\u001b[0m\u001b]8;;\u001b\\\n",
       "\u001b[2;36m                    \u001b[0m         \u001b[32m'C:\\Yokota_Adan\\Egyetem\\mszo\\MOO\\MSZO-MOO-2023\\Video2\\media\\v\u001b[0m \u001b[2m                        \u001b[0m\n",
       "\u001b[2;36m                    \u001b[0m         \u001b[32mideos\\Video2\\480p15\\partial_movie_files\\oper\\1442284246_26194\u001b[0m \u001b[2m                        \u001b[0m\n",
       "\u001b[2;36m                    \u001b[0m         \u001b[32m43421_3191009991.mp4'\u001b[0m                                         \u001b[2m                        \u001b[0m\n"
      ]
     },
     "metadata": {},
     "output_type": "display_data"
    },
    {
     "name": "stderr",
     "output_type": "stream",
     "text": [
      "                                                                             \r"
     ]
    },
    {
     "data": {
      "text/html": [
       "<pre style=\"white-space:pre;overflow-x:auto;line-height:normal;font-family:Menlo,'DejaVu Sans Mono',consolas,'Courier New',monospace\"><span style=\"color: #7fbfbf; text-decoration-color: #7fbfbf\">[11/19/23 12:23:29] </span><span style=\"color: #008000; text-decoration-color: #008000\">INFO    </span> Animation <span style=\"color: #008000; text-decoration-color: #008000\">33</span> : Partial movie file written in                  <a href=\"file://C:\\tools\\Manim\\Lib\\site-packages\\manim\\scene\\scene_file_writer.py\" target=\"_blank\"><span style=\"color: #7f7f7f; text-decoration-color: #7f7f7f\">scene_file_writer.py</span></a><span style=\"color: #7f7f7f; text-decoration-color: #7f7f7f\">:</span><a href=\"file://C:\\tools\\Manim\\Lib\\site-packages\\manim\\scene\\scene_file_writer.py#527\" target=\"_blank\"><span style=\"color: #7f7f7f; text-decoration-color: #7f7f7f\">527</span></a>\n",
       "<span style=\"color: #7fbfbf; text-decoration-color: #7fbfbf\">                    </span>         <span style=\"color: #008000; text-decoration-color: #008000\">'C:\\Yokota_Adan\\Egyetem\\mszo\\MOO\\MSZO-MOO-2023\\Video2\\media\\v</span> <span style=\"color: #7f7f7f; text-decoration-color: #7f7f7f\">                        </span>\n",
       "<span style=\"color: #7fbfbf; text-decoration-color: #7fbfbf\">                    </span>         <span style=\"color: #008000; text-decoration-color: #008000\">ideos\\Video2\\480p15\\partial_movie_files\\oper\\1442284246_61461</span> <span style=\"color: #7f7f7f; text-decoration-color: #7f7f7f\">                        </span>\n",
       "<span style=\"color: #7fbfbf; text-decoration-color: #7fbfbf\">                    </span>         <span style=\"color: #008000; text-decoration-color: #008000\">2867_1127798787.mp4'</span>                                          <span style=\"color: #7f7f7f; text-decoration-color: #7f7f7f\">                        </span>\n",
       "</pre>\n"
      ],
      "text/plain": [
       "\u001b[2;36m[11/19/23 12:23:29]\u001b[0m\u001b[2;36m \u001b[0m\u001b[32mINFO    \u001b[0m Animation \u001b[32m33\u001b[0m : Partial movie file written in                  \u001b]8;id=341752;file://C:\\tools\\Manim\\Lib\\site-packages\\manim\\scene\\scene_file_writer.py\u001b\\\u001b[2mscene_file_writer.py\u001b[0m\u001b]8;;\u001b\\\u001b[2m:\u001b[0m\u001b]8;id=658532;file://C:\\tools\\Manim\\Lib\\site-packages\\manim\\scene\\scene_file_writer.py#527\u001b\\\u001b[2m527\u001b[0m\u001b]8;;\u001b\\\n",
       "\u001b[2;36m                    \u001b[0m         \u001b[32m'C:\\Yokota_Adan\\Egyetem\\mszo\\MOO\\MSZO-MOO-2023\\Video2\\media\\v\u001b[0m \u001b[2m                        \u001b[0m\n",
       "\u001b[2;36m                    \u001b[0m         \u001b[32mideos\\Video2\\480p15\\partial_movie_files\\oper\\1442284246_61461\u001b[0m \u001b[2m                        \u001b[0m\n",
       "\u001b[2;36m                    \u001b[0m         \u001b[32m2867_1127798787.mp4'\u001b[0m                                          \u001b[2m                        \u001b[0m\n"
      ]
     },
     "metadata": {},
     "output_type": "display_data"
    },
    {
     "data": {
      "text/html": [
       "<pre style=\"white-space:pre;overflow-x:auto;line-height:normal;font-family:Menlo,'DejaVu Sans Mono',consolas,'Courier New',monospace\"><span style=\"color: #7fbfbf; text-decoration-color: #7fbfbf\">[11/19/23 12:23:30] </span><span style=\"color: #008000; text-decoration-color: #008000\">INFO    </span> Animation <span style=\"color: #008000; text-decoration-color: #008000\">34</span> : Partial movie file written in                  <a href=\"file://C:\\tools\\Manim\\Lib\\site-packages\\manim\\scene\\scene_file_writer.py\" target=\"_blank\"><span style=\"color: #7f7f7f; text-decoration-color: #7f7f7f\">scene_file_writer.py</span></a><span style=\"color: #7f7f7f; text-decoration-color: #7f7f7f\">:</span><a href=\"file://C:\\tools\\Manim\\Lib\\site-packages\\manim\\scene\\scene_file_writer.py#527\" target=\"_blank\"><span style=\"color: #7f7f7f; text-decoration-color: #7f7f7f\">527</span></a>\n",
       "<span style=\"color: #7fbfbf; text-decoration-color: #7fbfbf\">                    </span>         <span style=\"color: #008000; text-decoration-color: #008000\">'C:\\Yokota_Adan\\Egyetem\\mszo\\MOO\\MSZO-MOO-2023\\Video2\\media\\v</span> <span style=\"color: #7f7f7f; text-decoration-color: #7f7f7f\">                        </span>\n",
       "<span style=\"color: #7fbfbf; text-decoration-color: #7fbfbf\">                    </span>         <span style=\"color: #008000; text-decoration-color: #008000\">ideos\\Video2\\480p15\\partial_movie_files\\oper\\1442284246_32132</span> <span style=\"color: #7f7f7f; text-decoration-color: #7f7f7f\">                        </span>\n",
       "<span style=\"color: #7fbfbf; text-decoration-color: #7fbfbf\">                    </span>         <span style=\"color: #008000; text-decoration-color: #008000\">41947_3414782355.mp4'</span>                                         <span style=\"color: #7f7f7f; text-decoration-color: #7f7f7f\">                        </span>\n",
       "</pre>\n"
      ],
      "text/plain": [
       "\u001b[2;36m[11/19/23 12:23:30]\u001b[0m\u001b[2;36m \u001b[0m\u001b[32mINFO    \u001b[0m Animation \u001b[32m34\u001b[0m : Partial movie file written in                  \u001b]8;id=870306;file://C:\\tools\\Manim\\Lib\\site-packages\\manim\\scene\\scene_file_writer.py\u001b\\\u001b[2mscene_file_writer.py\u001b[0m\u001b]8;;\u001b\\\u001b[2m:\u001b[0m\u001b]8;id=705793;file://C:\\tools\\Manim\\Lib\\site-packages\\manim\\scene\\scene_file_writer.py#527\u001b\\\u001b[2m527\u001b[0m\u001b]8;;\u001b\\\n",
       "\u001b[2;36m                    \u001b[0m         \u001b[32m'C:\\Yokota_Adan\\Egyetem\\mszo\\MOO\\MSZO-MOO-2023\\Video2\\media\\v\u001b[0m \u001b[2m                        \u001b[0m\n",
       "\u001b[2;36m                    \u001b[0m         \u001b[32mideos\\Video2\\480p15\\partial_movie_files\\oper\\1442284246_32132\u001b[0m \u001b[2m                        \u001b[0m\n",
       "\u001b[2;36m                    \u001b[0m         \u001b[32m41947_3414782355.mp4'\u001b[0m                                         \u001b[2m                        \u001b[0m\n"
      ]
     },
     "metadata": {},
     "output_type": "display_data"
    },
    {
     "data": {
      "text/html": [
       "<pre style=\"white-space:pre;overflow-x:auto;line-height:normal;font-family:Menlo,'DejaVu Sans Mono',consolas,'Courier New',monospace\"><span style=\"color: #7fbfbf; text-decoration-color: #7fbfbf\">                    </span><span style=\"color: #008000; text-decoration-color: #008000\">INFO    </span> Animation <span style=\"color: #008000; text-decoration-color: #008000\">35</span> : Using cached data <span style=\"font-weight: bold\">(</span>hash :                          <a href=\"file://C:\\tools\\Manim\\Lib\\site-packages\\manim\\renderer\\cairo_renderer.py\" target=\"_blank\"><span style=\"color: #7f7f7f; text-decoration-color: #7f7f7f\">cairo_renderer.py</span></a><span style=\"color: #7f7f7f; text-decoration-color: #7f7f7f\">:</span><a href=\"file://C:\\tools\\Manim\\Lib\\site-packages\\manim\\renderer\\cairo_renderer.py#78\" target=\"_blank\"><span style=\"color: #7f7f7f; text-decoration-color: #7f7f7f\">78</span></a>\n",
       "<span style=\"color: #7fbfbf; text-decoration-color: #7fbfbf\">                    </span>         1442284246_1328009042_2794254000<span style=\"font-weight: bold\">)</span>                                 <span style=\"color: #7f7f7f; text-decoration-color: #7f7f7f\">                    </span>\n",
       "</pre>\n"
      ],
      "text/plain": [
       "\u001b[2;36m                   \u001b[0m\u001b[2;36m \u001b[0m\u001b[32mINFO    \u001b[0m Animation \u001b[32m35\u001b[0m : Using cached data \u001b[1m(\u001b[0mhash :                          \u001b]8;id=895512;file://C:\\tools\\Manim\\Lib\\site-packages\\manim\\renderer\\cairo_renderer.py\u001b\\\u001b[2mcairo_renderer.py\u001b[0m\u001b]8;;\u001b\\\u001b[2m:\u001b[0m\u001b]8;id=539241;file://C:\\tools\\Manim\\Lib\\site-packages\\manim\\renderer\\cairo_renderer.py#78\u001b\\\u001b[2m78\u001b[0m\u001b]8;;\u001b\\\n",
       "\u001b[2;36m                    \u001b[0m         1442284246_1328009042_2794254000\u001b[1m)\u001b[0m                                 \u001b[2m                    \u001b[0m\n"
      ]
     },
     "metadata": {},
     "output_type": "display_data"
    },
    {
     "name": "stderr",
     "output_type": "stream",
     "text": [
      "                                                                         \r"
     ]
    },
    {
     "data": {
      "text/html": [
       "<pre style=\"white-space:pre;overflow-x:auto;line-height:normal;font-family:Menlo,'DejaVu Sans Mono',consolas,'Courier New',monospace\"><span style=\"color: #7fbfbf; text-decoration-color: #7fbfbf\">                    </span><span style=\"color: #008000; text-decoration-color: #008000\">INFO    </span> Animation <span style=\"color: #008000; text-decoration-color: #008000\">36</span> : Using cached data <span style=\"font-weight: bold\">(</span>hash :                          <a href=\"file://C:\\tools\\Manim\\Lib\\site-packages\\manim\\renderer\\cairo_renderer.py\" target=\"_blank\"><span style=\"color: #7f7f7f; text-decoration-color: #7f7f7f\">cairo_renderer.py</span></a><span style=\"color: #7f7f7f; text-decoration-color: #7f7f7f\">:</span><a href=\"file://C:\\tools\\Manim\\Lib\\site-packages\\manim\\renderer\\cairo_renderer.py#78\" target=\"_blank\"><span style=\"color: #7f7f7f; text-decoration-color: #7f7f7f\">78</span></a>\n",
       "<span style=\"color: #7fbfbf; text-decoration-color: #7fbfbf\">                    </span>         1442284246_2249087727_1351824047<span style=\"font-weight: bold\">)</span>                                 <span style=\"color: #7f7f7f; text-decoration-color: #7f7f7f\">                    </span>\n",
       "</pre>\n"
      ],
      "text/plain": [
       "\u001b[2;36m                   \u001b[0m\u001b[2;36m \u001b[0m\u001b[32mINFO    \u001b[0m Animation \u001b[32m36\u001b[0m : Using cached data \u001b[1m(\u001b[0mhash :                          \u001b]8;id=429133;file://C:\\tools\\Manim\\Lib\\site-packages\\manim\\renderer\\cairo_renderer.py\u001b\\\u001b[2mcairo_renderer.py\u001b[0m\u001b]8;;\u001b\\\u001b[2m:\u001b[0m\u001b]8;id=583541;file://C:\\tools\\Manim\\Lib\\site-packages\\manim\\renderer\\cairo_renderer.py#78\u001b\\\u001b[2m78\u001b[0m\u001b]8;;\u001b\\\n",
       "\u001b[2;36m                    \u001b[0m         1442284246_2249087727_1351824047\u001b[1m)\u001b[0m                                 \u001b[2m                    \u001b[0m\n"
      ]
     },
     "metadata": {},
     "output_type": "display_data"
    },
    {
     "name": "stderr",
     "output_type": "stream",
     "text": [
      "                                                                                                  \r"
     ]
    },
    {
     "data": {
      "text/html": [
       "<pre style=\"white-space:pre;overflow-x:auto;line-height:normal;font-family:Menlo,'DejaVu Sans Mono',consolas,'Courier New',monospace\"><span style=\"color: #7fbfbf; text-decoration-color: #7fbfbf\">[11/19/23 12:23:31] </span><span style=\"color: #008000; text-decoration-color: #008000\">INFO    </span> Animation <span style=\"color: #008000; text-decoration-color: #008000\">37</span> : Partial movie file written in                  <a href=\"file://C:\\tools\\Manim\\Lib\\site-packages\\manim\\scene\\scene_file_writer.py\" target=\"_blank\"><span style=\"color: #7f7f7f; text-decoration-color: #7f7f7f\">scene_file_writer.py</span></a><span style=\"color: #7f7f7f; text-decoration-color: #7f7f7f\">:</span><a href=\"file://C:\\tools\\Manim\\Lib\\site-packages\\manim\\scene\\scene_file_writer.py#527\" target=\"_blank\"><span style=\"color: #7f7f7f; text-decoration-color: #7f7f7f\">527</span></a>\n",
       "<span style=\"color: #7fbfbf; text-decoration-color: #7fbfbf\">                    </span>         <span style=\"color: #008000; text-decoration-color: #008000\">'C:\\Yokota_Adan\\Egyetem\\mszo\\MOO\\MSZO-MOO-2023\\Video2\\media\\v</span> <span style=\"color: #7f7f7f; text-decoration-color: #7f7f7f\">                        </span>\n",
       "<span style=\"color: #7fbfbf; text-decoration-color: #7fbfbf\">                    </span>         <span style=\"color: #008000; text-decoration-color: #008000\">ideos\\Video2\\480p15\\partial_movie_files\\oper\\1442284246_12528</span> <span style=\"color: #7f7f7f; text-decoration-color: #7f7f7f\">                        </span>\n",
       "<span style=\"color: #7fbfbf; text-decoration-color: #7fbfbf\">                    </span>         <span style=\"color: #008000; text-decoration-color: #008000\">6499_1612395447.mp4'</span>                                          <span style=\"color: #7f7f7f; text-decoration-color: #7f7f7f\">                        </span>\n",
       "</pre>\n"
      ],
      "text/plain": [
       "\u001b[2;36m[11/19/23 12:23:31]\u001b[0m\u001b[2;36m \u001b[0m\u001b[32mINFO    \u001b[0m Animation \u001b[32m37\u001b[0m : Partial movie file written in                  \u001b]8;id=25568;file://C:\\tools\\Manim\\Lib\\site-packages\\manim\\scene\\scene_file_writer.py\u001b\\\u001b[2mscene_file_writer.py\u001b[0m\u001b]8;;\u001b\\\u001b[2m:\u001b[0m\u001b]8;id=958572;file://C:\\tools\\Manim\\Lib\\site-packages\\manim\\scene\\scene_file_writer.py#527\u001b\\\u001b[2m527\u001b[0m\u001b]8;;\u001b\\\n",
       "\u001b[2;36m                    \u001b[0m         \u001b[32m'C:\\Yokota_Adan\\Egyetem\\mszo\\MOO\\MSZO-MOO-2023\\Video2\\media\\v\u001b[0m \u001b[2m                        \u001b[0m\n",
       "\u001b[2;36m                    \u001b[0m         \u001b[32mideos\\Video2\\480p15\\partial_movie_files\\oper\\1442284246_12528\u001b[0m \u001b[2m                        \u001b[0m\n",
       "\u001b[2;36m                    \u001b[0m         \u001b[32m6499_1612395447.mp4'\u001b[0m                                          \u001b[2m                        \u001b[0m\n"
      ]
     },
     "metadata": {},
     "output_type": "display_data"
    },
    {
     "data": {
      "text/html": [
       "<pre style=\"white-space:pre;overflow-x:auto;line-height:normal;font-family:Menlo,'DejaVu Sans Mono',consolas,'Courier New',monospace\"><span style=\"color: #7fbfbf; text-decoration-color: #7fbfbf\">                    </span><span style=\"color: #008000; text-decoration-color: #008000\">INFO    </span> Combining to Movie file.                                      <a href=\"file://C:\\tools\\Manim\\Lib\\site-packages\\manim\\scene\\scene_file_writer.py\" target=\"_blank\"><span style=\"color: #7f7f7f; text-decoration-color: #7f7f7f\">scene_file_writer.py</span></a><span style=\"color: #7f7f7f; text-decoration-color: #7f7f7f\">:</span><a href=\"file://C:\\tools\\Manim\\Lib\\site-packages\\manim\\scene\\scene_file_writer.py#617\" target=\"_blank\"><span style=\"color: #7f7f7f; text-decoration-color: #7f7f7f\">617</span></a>\n",
       "</pre>\n"
      ],
      "text/plain": [
       "\u001b[2;36m                   \u001b[0m\u001b[2;36m \u001b[0m\u001b[32mINFO    \u001b[0m Combining to Movie file.                                      \u001b]8;id=208883;file://C:\\tools\\Manim\\Lib\\site-packages\\manim\\scene\\scene_file_writer.py\u001b\\\u001b[2mscene_file_writer.py\u001b[0m\u001b]8;;\u001b\\\u001b[2m:\u001b[0m\u001b]8;id=527217;file://C:\\tools\\Manim\\Lib\\site-packages\\manim\\scene\\scene_file_writer.py#617\u001b\\\u001b[2m617\u001b[0m\u001b]8;;\u001b\\\n"
      ]
     },
     "metadata": {},
     "output_type": "display_data"
    },
    {
     "data": {
      "text/html": [
       "<pre style=\"white-space:pre;overflow-x:auto;line-height:normal;font-family:Menlo,'DejaVu Sans Mono',consolas,'Courier New',monospace\"><span style=\"color: #7fbfbf; text-decoration-color: #7fbfbf\">                    </span><span style=\"color: #008000; text-decoration-color: #008000\">INFO    </span>                                                               <a href=\"file://C:\\tools\\Manim\\Lib\\site-packages\\manim\\scene\\scene_file_writer.py\" target=\"_blank\"><span style=\"color: #7f7f7f; text-decoration-color: #7f7f7f\">scene_file_writer.py</span></a><span style=\"color: #7f7f7f; text-decoration-color: #7f7f7f\">:</span><a href=\"file://C:\\tools\\Manim\\Lib\\site-packages\\manim\\scene\\scene_file_writer.py#736\" target=\"_blank\"><span style=\"color: #7f7f7f; text-decoration-color: #7f7f7f\">736</span></a>\n",
       "<span style=\"color: #7fbfbf; text-decoration-color: #7fbfbf\">                    </span>         <span style=\"color: #808000; text-decoration-color: #808000; font-weight: bold\">File</span> ready at                                                 <span style=\"color: #7f7f7f; text-decoration-color: #7f7f7f\">                        </span>\n",
       "<span style=\"color: #7fbfbf; text-decoration-color: #7fbfbf\">                    </span>         <span style=\"color: #008000; text-decoration-color: #008000\">'C:\\Yokota_Adan\\Egyetem\\mszo\\MOO\\MSZO-MOO-2023\\Video2\\media\\v</span> <span style=\"color: #7f7f7f; text-decoration-color: #7f7f7f\">                        </span>\n",
       "<span style=\"color: #7fbfbf; text-decoration-color: #7fbfbf\">                    </span>         <span style=\"color: #008000; text-decoration-color: #008000\">ideos\\Video2\\480p15\\oper.mp4'</span>                                 <span style=\"color: #7f7f7f; text-decoration-color: #7f7f7f\">                        </span>\n",
       "<span style=\"color: #7fbfbf; text-decoration-color: #7fbfbf\">                    </span>                                                                       <span style=\"color: #7f7f7f; text-decoration-color: #7f7f7f\">                        </span>\n",
       "</pre>\n"
      ],
      "text/plain": [
       "\u001b[2;36m                   \u001b[0m\u001b[2;36m \u001b[0m\u001b[32mINFO    \u001b[0m                                                               \u001b]8;id=690951;file://C:\\tools\\Manim\\Lib\\site-packages\\manim\\scene\\scene_file_writer.py\u001b\\\u001b[2mscene_file_writer.py\u001b[0m\u001b]8;;\u001b\\\u001b[2m:\u001b[0m\u001b]8;id=850061;file://C:\\tools\\Manim\\Lib\\site-packages\\manim\\scene\\scene_file_writer.py#736\u001b\\\u001b[2m736\u001b[0m\u001b]8;;\u001b\\\n",
       "\u001b[2;36m                    \u001b[0m         \u001b[1;33mFile\u001b[0m ready at                                                 \u001b[2m                        \u001b[0m\n",
       "\u001b[2;36m                    \u001b[0m         \u001b[32m'C:\\Yokota_Adan\\Egyetem\\mszo\\MOO\\MSZO-MOO-2023\\Video2\\media\\v\u001b[0m \u001b[2m                        \u001b[0m\n",
       "\u001b[2;36m                    \u001b[0m         \u001b[32mideos\\Video2\\480p15\\oper.mp4'\u001b[0m                                 \u001b[2m                        \u001b[0m\n",
       "\u001b[2;36m                    \u001b[0m                                                                       \u001b[2m                        \u001b[0m\n"
      ]
     },
     "metadata": {},
     "output_type": "display_data"
    },
    {
     "data": {
      "text/html": [
       "<pre style=\"white-space:pre;overflow-x:auto;line-height:normal;font-family:Menlo,'DejaVu Sans Mono',consolas,'Courier New',monospace\"><span style=\"color: #7fbfbf; text-decoration-color: #7fbfbf\">                    </span><span style=\"color: #008000; text-decoration-color: #008000\">INFO    </span> The partial movie directory is full <span style=\"font-weight: bold\">(</span>&gt; <span style=\"color: #008000; text-decoration-color: #008000\">100</span> files<span style=\"font-weight: bold\">)</span>. Therefore, <a href=\"file://C:\\tools\\Manim\\Lib\\site-packages\\manim\\scene\\scene_file_writer.py\" target=\"_blank\"><span style=\"color: #7f7f7f; text-decoration-color: #7f7f7f\">scene_file_writer.py</span></a><span style=\"color: #7f7f7f; text-decoration-color: #7f7f7f\">:</span><a href=\"file://C:\\tools\\Manim\\Lib\\site-packages\\manim\\scene\\scene_file_writer.py#708\" target=\"_blank\"><span style=\"color: #7f7f7f; text-decoration-color: #7f7f7f\">708</span></a>\n",
       "<span style=\"color: #7fbfbf; text-decoration-color: #7fbfbf\">                    </span>         manim has removed the <span style=\"color: #008000; text-decoration-color: #008000\">14</span> oldest <span style=\"color: #800080; text-decoration-color: #800080; font-weight: bold\">file</span><span style=\"font-weight: bold\">(</span>s<span style=\"font-weight: bold\">)</span>. You can change this  <span style=\"color: #7f7f7f; text-decoration-color: #7f7f7f\">                        </span>\n",
       "<span style=\"color: #7fbfbf; text-decoration-color: #7fbfbf\">                    </span>         behaviour by changing max_files_cached in config.             <span style=\"color: #7f7f7f; text-decoration-color: #7f7f7f\">                        </span>\n",
       "</pre>\n"
      ],
      "text/plain": [
       "\u001b[2;36m                   \u001b[0m\u001b[2;36m \u001b[0m\u001b[32mINFO    \u001b[0m The partial movie directory is full \u001b[1m(\u001b[0m> \u001b[32m100\u001b[0m files\u001b[1m)\u001b[0m. Therefore, \u001b]8;id=318277;file://C:\\tools\\Manim\\Lib\\site-packages\\manim\\scene\\scene_file_writer.py\u001b\\\u001b[2mscene_file_writer.py\u001b[0m\u001b]8;;\u001b\\\u001b[2m:\u001b[0m\u001b]8;id=404170;file://C:\\tools\\Manim\\Lib\\site-packages\\manim\\scene\\scene_file_writer.py#708\u001b\\\u001b[2m708\u001b[0m\u001b]8;;\u001b\\\n",
       "\u001b[2;36m                    \u001b[0m         manim has removed the \u001b[32m14\u001b[0m oldest \u001b[1;35mfile\u001b[0m\u001b[1m(\u001b[0ms\u001b[1m)\u001b[0m. You can change this  \u001b[2m                        \u001b[0m\n",
       "\u001b[2;36m                    \u001b[0m         behaviour by changing max_files_cached in config.             \u001b[2m                        \u001b[0m\n"
      ]
     },
     "metadata": {},
     "output_type": "display_data"
    },
    {
     "data": {
      "text/html": [
       "<pre style=\"white-space:pre;overflow-x:auto;line-height:normal;font-family:Menlo,'DejaVu Sans Mono',consolas,'Courier New',monospace\"><span style=\"color: #7fbfbf; text-decoration-color: #7fbfbf\">                    </span><span style=\"color: #008000; text-decoration-color: #008000\">INFO    </span> <span style=\"color: #808000; text-decoration-color: #808000; font-weight: bold\">Rendered</span> oper                                                             <a href=\"file://C:\\tools\\Manim\\Lib\\site-packages\\manim\\scene\\scene.py\" target=\"_blank\"><span style=\"color: #7f7f7f; text-decoration-color: #7f7f7f\">scene.py</span></a><span style=\"color: #7f7f7f; text-decoration-color: #7f7f7f\">:</span><a href=\"file://C:\\tools\\Manim\\Lib\\site-packages\\manim\\scene\\scene.py#241\" target=\"_blank\"><span style=\"color: #7f7f7f; text-decoration-color: #7f7f7f\">241</span></a>\n",
       "<span style=\"color: #7fbfbf; text-decoration-color: #7fbfbf\">                    </span>         <span style=\"color: #808000; text-decoration-color: #808000; font-weight: bold\">Played</span> <span style=\"color: #008000; text-decoration-color: #008000\">38</span> <span style=\"color: #808000; text-decoration-color: #808000; font-weight: bold\">animations</span>                                                      <span style=\"color: #7f7f7f; text-decoration-color: #7f7f7f\">            </span>\n",
       "</pre>\n"
      ],
      "text/plain": [
       "\u001b[2;36m                   \u001b[0m\u001b[2;36m \u001b[0m\u001b[32mINFO    \u001b[0m \u001b[1;33mRendered\u001b[0m oper                                                             \u001b]8;id=81173;file://C:\\tools\\Manim\\Lib\\site-packages\\manim\\scene\\scene.py\u001b\\\u001b[2mscene.py\u001b[0m\u001b]8;;\u001b\\\u001b[2m:\u001b[0m\u001b]8;id=215729;file://C:\\tools\\Manim\\Lib\\site-packages\\manim\\scene\\scene.py#241\u001b\\\u001b[2m241\u001b[0m\u001b]8;;\u001b\\\n",
       "\u001b[2;36m                    \u001b[0m         \u001b[1;33mPlayed\u001b[0m \u001b[32m38\u001b[0m \u001b[1;33manimations\u001b[0m                                                      \u001b[2m            \u001b[0m\n"
      ]
     },
     "metadata": {},
     "output_type": "display_data"
    },
    {
     "data": {
      "text/html": [
       "<video src=\"media\\jupyter\\oper@2023-11-19@12-23-31.mp4\" controls autoplay loop style=\"max-width: 60%;\"  >\n",
       "      Your browser does not support the <code>video</code> element.\n",
       "    </video>"
      ],
      "text/plain": [
       "<IPython.core.display.Video object>"
      ]
     },
     "metadata": {},
     "output_type": "display_data"
    }
   ],
   "source": [
    "%%manim -ql oper\n",
    "class oper(Scene):\n",
    "    def construct(self):\n",
    "        Title = Text(\"Komplexebb Objektumműveletek\",color=BLUE)\n",
    "        TitleUnderLine = Line(start=[-6.5,3,0],end=[-1.5,3,0],color=BLUE)\n",
    "        self.play(FadeIn(Title))\n",
    "\n",
    "        self.wait(2)\n",
    "\n",
    "        self.play(Title.animate.scale(0.5).shift(3.25 * UP + 4 * LEFT))\n",
    "        self.play(GrowFromCenter(TitleUnderLine))\n",
    "\n",
    "        self.wait()\n",
    "        subtitle= Text(\"Operátorok túlterhelése\",font_size=50,color=BLUE_B)\n",
    "        self.play(Write(subtitle.scale(.7).shift(2 * UP)))\n",
    "\n",
    "        text = Text(\"Műveletek (pl.: +, *) felülítárával függvényt hívhatunk\\na normál utasítás helyett\\n\\nFontos megjegyezni, hogy egyoperandusú művelet egyoperandusú,\\nkétoperandusú kétoperandusúként írható felül\",font_size=25,color=BLUE_A, line_spacing=1)\n",
    "\n",
    "        self.play(Write(text))\n",
    "\n",
    "        code = Code(language=\"cpp\", style=\"github-dark\",insert_line_no=False,code=\"\"\"class vektor {\n",
    "public:\n",
    "    double x, y, z;\n",
    "\n",
    "    vektor(double x = 0, double y = 0, double z = 0) : x(x), y(y), z(z) {}\n",
    "\n",
    "    vektor operator+(const vektor& masik) {\n",
    "        return vektor(this->x + masik.x, this->y + masik.y, this->z + masik.z);\n",
    "    }\n",
    "\n",
    "    bool operator<(const vektor& masik) {\n",
    "        return (x * x + y * y + z * z) < (masik.x * masik.x + masik.y * masik.y + masik.z * masik.z);\n",
    "    }\n",
    "};\n",
    "\n",
    "vektor elso(1.2, 2.3, 4.2);\n",
    "vektor masodik = elso + vektor(0.8, -0.3, 2.7);\n",
    "cout << (masodik < elso) << endl; // 0, mert elso hossza kisebb, mint masodik\"\"\").scale(.6).shift(DOWN)\n",
    "\n",
    "        self.play(FadeOut(text))\n",
    "        self.play(Create(code))\n",
    "\n",
    "        self.wait(1)\n",
    "\n",
    "        text= Text(\"A ++ és -- operátor egy speciális eset, ugyanis változó előtt és mögött is lehet\\nEzeket külön külön lehet túlterhelni\",font_size=25,color=BLUE_A, line_spacing=1)\n",
    "\n",
    "        self.play(subtitle.animate.shift(0.2*UP),FadeIn(text.shift(1.4*UP)),\n",
    "            Transform(code,Code(code=\"\"\"class vec2 {\n",
    "    // Preinkrementálás\n",
    "    vec2 operator++() {\n",
    "        this->x++;\n",
    "        return *this;\n",
    "    }\n",
    "    // Posztinkrementálás\n",
    "    vec2 operator++(int) {\n",
    "        vec2 eredeti = *this;\n",
    "        this->x++;\n",
    "        return eredeti;\n",
    "    }\n",
    "};\n",
    "vec2 origo(0, 0);\n",
    "cout << origo++ << endl; // {0; 0}\n",
    "cout << origo << endl; // {1; 0} posztinkrementálás növel, de nem használja a számításban\n",
    "cout << ++origo << endl; // {2; 0} preinkrementálás növel, és használja is\"\"\",language=\"c++\",insert_line_no=False,style=\"github-dark\").scale(0.6).shift(1.2*DOWN))\n",
    "        )\n",
    "        self.wait()\n",
    "\n",
    "        self.play(subtitle.animate.shift(0.2*DOWN),\n",
    "        Transform(text,Text(\"A << operátor kompatibilissé tehető az `std::cout`-tal\",font_size=25,color=BLUE_A).shift(1.2*UP)),\n",
    "        Transform(code,Code(code=\"\"\"class vec2 {\n",
    "    // ...\n",
    "\n",
    "    friend std::ostream& operator<<(std::ostream& os, const vec2& ez);\n",
    "};\n",
    "\n",
    "std::ostream& operator<<(std::ostream& os, const vec2& ez) {\n",
    "    os << \"{ \" << ez.x << \"; \" << ez.y << \"}\";\n",
    "    return os;\n",
    "}\"\"\",language=\"c++\",insert_line_no=False,style=\"github-dark\").scale(0.6).shift(0.7*DOWN))\n",
    "        )\n",
    "        self.wait()\n",
    "\n",
    "        self.play(FadeOut(text,code),Transform(subtitle,Text(\"Öröklés\",font_size=50,color=BLUE_B).scale(.7).shift(2 * UP)))\n",
    "        text=Text(\"\"\"- Egy osztály hozzáférhet az örökölt tulajdonságaihoz, függvényeihez\n",
    "- Ezeket módosíthatja, és adhat is hozzá\n",
    "- A protected láthatósági opció esetén az örökölt (és maga) módosíthat, más nem\"\"\",font_size=25,color=BLUE_A, line_spacing=1)\n",
    "        self.play(Write(text))\n",
    "        self.wait()\n",
    "        self.play(FadeOut(text))\n",
    "        table = Table(\n",
    "            [[\"public\",\"protected\", \"private\"],\n",
    "            [\"public\",\"protected\", \"Rejtett\"],\n",
    "            [\"protected\",\"protected\", \"Rejtett\"],\n",
    "            [\"private\",\"private\", \"Rejtett\"]],\n",
    "            row_labels=[Text(\"Öröklés típusa\"),Text(\"public\"), Text(\"protected\"), Text(\"private\")],\n",
    "            col_labels=[Text(\"\"), Text(\"Láthatóság\"), Text(\"\")],\n",
    "            line_config={\"stroke_width\": 1})\n",
    "        table.remove(*table.get_vertical_lines())\n",
    "        table.remove(table.get_horizontal_lines()[0])\n",
    "\n",
    "        self.play(FadeIn(table.shift(0.7*DOWN).scale(0.6)))\n",
    "        self.wait(1)\n",
    "\n",
    "        self.play(FadeOut(table))\n",
    "        code=Code(code=\"\"\"class negyzet {\n",
    "public:\n",
    "    double a;\n",
    "    negyzet(double a) : a(a) {}\n",
    "};\n",
    "\n",
    "class teglalap : public negyzet {\n",
    "public:\n",
    "    double b;\n",
    "\n",
    "    // a-hoz még mindig hozzá tudunk férni\n",
    "    teglalap(double a, double b) : a(a), b(b) {}\n",
    "};\"\"\",language=\"c++\",insert_line_no=False,style=\"github-dark\").scale(0.8).shift(0.7*DOWN)\n",
    "        self.play(FadeIn(code))\n",
    "        self.wait()\n",
    "\n",
    "        self.play(FadeOut(code))\n",
    "        self.play(Transform(subtitle,Text(\"Virtuális függvények\",font_size=50,color=BLUE_B).scale(.7).shift(2 * UP)))\n",
    "        text=Text(\"\"\"- Két fajta módon lehet egy osztálynak függvénye: későn és korán kötött\n",
    "- A korai kötésnél a fordító magától helyezi el a függvényhívást fordításkor\n",
    "- A késői kötésnél futáskor hívja meg a függvény helyét (pointer)\n",
    "- A legegyszerűbb használati példája: \n",
    "    Mindig a jó függvényt hívjuk, még ha ide-oda váltunk típusokat is\"\"\",font_size=25,color=BLUE_A, line_spacing= 1)\n",
    "        self.play(Write(text))\n",
    "        self.wait()\n",
    "        code=Code(code=\"\"\"class negyzet {\n",
    "public:\n",
    "    double a;\n",
    "    negyzet(double a) : a(a) {}\n",
    "\n",
    "    double terulet() { return a * a; }\n",
    "    double kerulet() { return 4 * a; }\n",
    "}\n",
    "\n",
    "class teglalap : public negyzet {\n",
    "public:\n",
    "    double b;\n",
    "    teglalap(double a, double b) : negyzet(a), b(b) {}\n",
    "\n",
    "    double terulet() { return a * b; }\n",
    "    double kerulet() { return 2.0 * (a + b); }\n",
    "}\n",
    "\n",
    "teglalap valt(5.0, 2.0);\n",
    "std::cout << negyzet(valt).terulet << std::endl; // Hibás, 5 * 5 = 25-öt ír, mert negyzet függvényét hívja\"\"\",language=\"c++\",insert_line_no=False,style=\"github-dark\").scale(0.6).shift(0.7*DOWN)\n",
    "        self.play(FadeOut(text))\n",
    "        self.play(FadeIn(code))\n",
    "        self.wait()\n",
    "        code2=Code(code=\"\"\"class negyzet {\n",
    "    // ...\n",
    "    virtual double kerulet() { return 4 * a; }\n",
    "    virtual double terulet() { return a * a; }\n",
    "}\n",
    "\n",
    "class teglalap : public negyzet {\n",
    "    // ...\n",
    "    virtual double terulet() override { return a * b; }\n",
    "    virtual double kerulet() override { return 2.0 * (a + b); }\n",
    "}\n",
    "\n",
    "teglalap valt(5.0, 2.0);\n",
    "std::cout << negyzet(valt).terulet << std::endl; // Jó, 5 * 2 = 10\"\"\",language=\"c++\",insert_line_no=False,style=\"github-dark\").scale(0.6).shift(0.7*DOWN)\n",
    "        self.play(Transform(code,code2))\n",
    "        self.wait()\n",
    "        code2=Code(code=\"\"\"class ember abstract {\n",
    "    std::string nev;\n",
    "public:\n",
    "    ember(std::string nev_p) : nev(nev_p) {}\n",
    "    virtual double berSzamitas() = 0; // Itt nem tudunk bért számítani, az örököltökön viszont igen\n",
    "}\n",
    "class mernok : public ember {\n",
    "public:\n",
    "    mernok(std::string nev_p) : ember(nev_p) {}\n",
    "    virtual double berSzamitas() override { return 900000 * 12; }\n",
    "}\n",
    "class bolcsesz : public ember {\n",
    "public:\n",
    "    bolcsesz(std::string nev_p) : ember(nev_p) {}\n",
    "    virtual double berSzamitas() override { return 0; }\n",
    "}\"\"\",language=\"c++\",insert_line_no=False,style=\"github-dark\").scale(0.6).shift(1*DOWN)\n",
    "        text=Text(\"Alap osztályból több objektum örököl, de nincsen rajta a virtuális függvény implementálva,\\nakkor kiírjuk a prototípusát, és hogy `= 0;`\",font_size=25,color=BLUE_A, line_spacing= 1)\n",
    "        self.play(Transform(code,code2),subtitle.animate.shift(0.5*UP),FadeIn(text.shift(1.6*UP)))\n",
    "        self.play(FadeOut(subtitle,text,code))\n",
    "        self.wait(1)\n",
    "\n",
    "        self.play(ShrinkToCenter(TitleUnderLine))\n",
    "        self.play(Unwrite(Title))\n",
    "\n",
    "        self.wait(2)\n",
    "        "
   ]
  }
 ],
 "metadata": {
  "kernelspec": {
   "display_name": "Python 3",
   "language": "python",
   "name": "python3"
  },
  "language_info": {
   "codemirror_mode": {
    "name": "ipython",
    "version": 3
   },
   "file_extension": ".py",
   "mimetype": "text/x-python",
   "name": "python",
   "nbconvert_exporter": "python",
   "pygments_lexer": "ipython3",
   "version": "3.10.10"
  }
 },
 "nbformat": 4,
 "nbformat_minor": 2
}
